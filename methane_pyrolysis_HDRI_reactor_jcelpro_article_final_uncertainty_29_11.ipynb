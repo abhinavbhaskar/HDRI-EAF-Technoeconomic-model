{
 "cells": [
  {
   "cell_type": "markdown",
   "metadata": {},
   "source": [
    "The first step is to download import the relevant libraries required for the model.This includes the pandas, numpy and matplotlib libraries. An easier way to get all these libraries in one place is to download and install the Anaconda distribution, which is widely used for scientific computations. The size of the figures and the dpi for the figures is pre-defined to get publication quality graphs. "
   ]
  },
  {
   "cell_type": "code",
   "execution_count": 1,
   "metadata": {},
   "outputs": [
    {
     "name": "stderr",
     "output_type": "stream",
     "text": [
      "In /home/abhinav/[/home/abhinav/anaconda_new]/lib/python3.7/site-packages/matplotlib/mpl-data/stylelib/_classic_test.mplstyle: \n",
      "The text.latex.preview rcparam was deprecated in Matplotlib 3.3 and will be removed two minor releases later.\n",
      "In /home/abhinav/[/home/abhinav/anaconda_new]/lib/python3.7/site-packages/matplotlib/mpl-data/stylelib/_classic_test.mplstyle: \n",
      "The mathtext.fallback_to_cm rcparam was deprecated in Matplotlib 3.3 and will be removed two minor releases later.\n",
      "In /home/abhinav/[/home/abhinav/anaconda_new]/lib/python3.7/site-packages/matplotlib/mpl-data/stylelib/_classic_test.mplstyle: Support for setting the 'mathtext.fallback_to_cm' rcParam is deprecated since 3.3 and will be removed two minor releases later; use 'mathtext.fallback : 'cm' instead.\n",
      "In /home/abhinav/[/home/abhinav/anaconda_new]/lib/python3.7/site-packages/matplotlib/mpl-data/stylelib/_classic_test.mplstyle: \n",
      "The validate_bool_maybe_none function was deprecated in Matplotlib 3.3 and will be removed two minor releases later.\n",
      "In /home/abhinav/[/home/abhinav/anaconda_new]/lib/python3.7/site-packages/matplotlib/mpl-data/stylelib/_classic_test.mplstyle: \n",
      "The savefig.jpeg_quality rcparam was deprecated in Matplotlib 3.3 and will be removed two minor releases later.\n",
      "In /home/abhinav/[/home/abhinav/anaconda_new]/lib/python3.7/site-packages/matplotlib/mpl-data/stylelib/_classic_test.mplstyle: \n",
      "The keymap.all_axes rcparam was deprecated in Matplotlib 3.3 and will be removed two minor releases later.\n",
      "In /home/abhinav/[/home/abhinav/anaconda_new]/lib/python3.7/site-packages/matplotlib/mpl-data/stylelib/_classic_test.mplstyle: \n",
      "The animation.avconv_path rcparam was deprecated in Matplotlib 3.3 and will be removed two minor releases later.\n",
      "In /home/abhinav/[/home/abhinav/anaconda_new]/lib/python3.7/site-packages/matplotlib/mpl-data/stylelib/_classic_test.mplstyle: \n",
      "The animation.avconv_args rcparam was deprecated in Matplotlib 3.3 and will be removed two minor releases later.\n"
     ]
    }
   ],
   "source": [
    "import pandas as pd \n",
    "import numpy as np\n",
    "import matplotlib.pyplot as plt\n",
    "%matplotlib inline\n",
    "plt.rcParams['savefig.dpi'] = 1200\n",
    "plt.rcParams[\"figure.figsize\"] = [15,15]"
   ]
  },
  {
   "cell_type": "markdown",
   "metadata": {},
   "source": []
  },
  {
   "cell_type": "markdown",
   "metadata": {},
   "source": [
    "## Molecular weight of the different chemical species involved in the chemical reaction are defined. "
   ]
  },
  {
   "cell_type": "code",
   "execution_count": 2,
   "metadata": {},
   "outputs": [],
   "source": [
    "mol_weight_fe=55.845 #in grams\n",
    "mol_weight_fe2o3=159.688 #in grams \n",
    "mol_weight_Sio2=60.0843 #in grams\n",
    "mol_weight_al2o3=101.9613 #in grams\n",
    "mol_weight_feo=71.844 #in grams\n",
    "mol_weight_H2=2.01588 #in grams\n",
    "mol_weight_CH4=16.04 # in grams\n",
    "mol_weight_C=12.017 # in grams\n",
    "mol_weight_H2O=18.0153 #in grams\n",
    "mol_weight_cao=56.077#in grams\n",
    "mol_weight_mgo=40.3044 #in grams\n",
    "mol_weight_al2o3=101.9613 #in grams\n",
    "mol_weight_tin=118.07"
   ]
  },
  {
   "cell_type": "markdown",
   "metadata": {},
   "source": [
    "## Key Assumptions for the model"
   ]
  },
  {
   "cell_type": "code",
   "execution_count": 3,
   "metadata": {},
   "outputs": [],
   "source": [
    "methane_ems=2.42 # kgco2/kgch4 by considering 1 MMBTU=1055.055 MJ and calorific value of CH4=48 MJ/kg\n",
    "#amount of CO2 released by burning 1 kg of CH4\n",
    "#Value for Germany taken from : \n",
    "##https://www.carbonfootprint.com/docs/2018_8_electricity_factors_august_2018_-_online_sources.pdf\n",
    "grid_emission_factor=0.413#ton/MWh\n",
    "ng_cal=48000 #ref https://www.jica.go.jp/english/our_work/climate_change/c8h0vm0000f7klc7-att/Appendix_E.pdf\n",
    "# Kj/kg calorific value of natural gas \n",
    "ng_upstream_emission=17.2 #gCo2/MJ\n",
    "ng_up_em_kg=(ng_upstream_emission/ng_cal)*1000 #kgCO2/kgCH4\n",
    "gas_heater_eta=0.85  # Efficiency of the gas fired heater\n",
    "eta_el=0.9 # Efficiency of the electric heater used for the reactor \n",
    "el_heater_cost=50 # Million USD\n",
    "tinprice=18000 #USD/T\n",
    "\n",
    "ss_steel_cost=2500 #USD/ton\n",
    "refractory_cost=800 #USD/ton\n",
    "steel_density=7700 #kg/m3\n",
    "refractory_density=2970 #kg/m3\n",
    "tank_manufacturing=1000 #USD/ton\n",
    "refractory_labour=1000 #USD/ton\n",
    "#Economic assumptions\n",
    "lf_reac=10\n",
    "lf_dri=3\n"
   ]
  },
  {
   "cell_type": "markdown",
   "metadata": {},
   "source": [
    "## Economic assumptions"
   ]
  },
  {
   "cell_type": "code",
   "execution_count": 4,
   "metadata": {},
   "outputs": [],
   "source": [
    "plant_life=20\n",
    "carbon_price=200\n",
    "ng_price=6.58 #USD/MMBTU\n",
    "iron_ore_cost=90 #usd/ton\n",
    "electricity_cost=56.12 #USD/MWh # Germany\n",
    "emission_cost=35 #USD/ton# USD 30 per ton \n",
    "carbon_steel_price=650 #USD/ton\n",
    "tax_rate=0.35\n",
    "interest_rate=0.10\n",
    "emission_factor=0.413 # corresponsding to german emission factor\n",
    "# Assume that 60% of the carbon produced could be sold\n",
    "carbon_sold=0.6"
   ]
  },
  {
   "cell_type": "code",
   "execution_count": 5,
   "metadata": {},
   "outputs": [],
   "source": [
    "### Hydrogen enthalpy coefficients\n",
    "### Hydrogen enthalpy coefficients\n",
    "# The value of enthalpy returned is the specific enthalpy in kj/g\n",
    "\n",
    "def H2_enthalpy_1(T):# T1 and T2 should be in the range of 298-1000 K <br>\n",
    "    t=T/1000 \n",
    "    A=33.066718 \n",
    "    B=-11.363417\n",
    "    C=11.432816 \n",
    "    D=-2.772874 \n",
    "    E=-0.158558 \n",
    "    F=-9.980797 \n",
    "    G=172.707974 \n",
    "    H=0  \n",
    "    H_t=(A*t +(B*t**2)/2 +(C*t**3)/3 + (D*t**4)/4-(E/t)+F-H)/mol_weight_H2 \n",
    "    return H_t \n",
    "def H2_enthalpy_2(T):#T in range 1000-2500 K \n",
    "    t=T/1000 \n",
    "    A=18.563083 \n",
    "    B=12.257357 \n",
    "    C=-2.859786  \n",
    "    D=0.268238 \n",
    "    E=1.977990 \n",
    "    F=-1.147438 \n",
    "    G=156.288133 \n",
    "    H=0 \n",
    "    H_t=(A*t +(B*t**2)/2 +(C*t**3)/3 + (D*t**4)/4-(E/t)+F-H)/mol_weight_H2 \n",
    "    return H_t \n",
    "### Water enthalpy coefficients\n",
    "\n",
    "def H2O_enthalpy(T):\n",
    "    t=T/1000 \n",
    "    A=30.09200  \n",
    "    B=6.832514 \n",
    "    C=6.793435 \n",
    "    D=-2.534480 \n",
    "    E=0.082139 \n",
    "    F=-250.8810 \n",
    "    G=223.3967 \n",
    "    H=-241.8264 \n",
    "    H_t=(A*t +(B*t**2)/2 +(C*t**3)/3 + (D*t**4)/4-(E/t)+F-H)/mol_weight_H2O \n",
    "    return H_t \n",
    "\n",
    "def fe_enthalpy(T):#298-1809 K\n",
    "    t=T/1000\n",
    "    A=23.97449\n",
    "    B=8.367750\n",
    "    C=0.000277\n",
    "    D=-0.000088\n",
    "    E=-0.000005\n",
    "    F=0.268027\n",
    "    G=62.06336\n",
    "    H=7.788015    \n",
    "    H_t=(A*t +(B*t**2)/2 +(C*t**3)/3 + (D*t**4)/4-(E/t)+F-H)/mol_weight_fe\n",
    "    return H_t\n",
    "def fe_enthalpy_2(T):#298-1809 K\n",
    "    t=T/1000\n",
    "    A=46.02400\n",
    "    B=-1.88467*10**(-8)\n",
    "    C=6.094750*10**(-9)\n",
    "    D=-6.640301*10**(-10)\n",
    "    E=-0.8246121*10**(-9)\n",
    "    F=-10.80543\n",
    "    G=72.54094\n",
    "    H=12.39052  \n",
    "    H_t=(A*t +(B*t**2)/2 +(C*t**3)/3 + (D*t**4)/4-(E/t)+F-H)/mol_weight_fe\n",
    "    return H_t\n",
    "def feo_enthalpy(T):\n",
    "    t=T/1000\n",
    "    A=45.75120\n",
    "    B=18.78553\n",
    "    C=-5.952201\n",
    "    D=0.852779\n",
    "    E=-0.081265\n",
    "    F=-286.7429\n",
    "    G=110.3120\n",
    "    H=-272.0441\n",
    "    H_t=(A*t +(B*t**2)/2 +(C*t**3)/3 + (D*t**4)/4-(E/t)+F-H)/mol_weight_feo\n",
    "    return H_t\n",
    "def Al2O3_enthalpy(T):\n",
    "    t=T/1000\n",
    "    A=106.0880\n",
    "    B=36.33740\n",
    "    C=-13.86730\n",
    "    D=2.141221\n",
    "    E=-3.133231\n",
    "    F=-1705.970\n",
    "    G=153.9350\n",
    "    H=-1662.300  \n",
    "    H_t=(A*t +(B*t**2)/2 +(C*t**3)/3 + (D*t**4)/4-(E/t)+F-H)/mol_weight_al2o3\n",
    "    return H_t\n",
    "def sio2_enthalpy(T):\n",
    "    t=T/1000\n",
    "    A=58.75\n",
    "    B=10.279\n",
    "    C=-0.131384\n",
    "    D=0.025210\n",
    "    E=0.025601\n",
    "    F=-929.3292\n",
    "    G=105.8092\n",
    "    H=-910.8568   \n",
    "    H_t=(A*t +(B*t**2)/2 +(C*t**3)/3 + (D*t**4)/4-(E/t)+F-H)/mol_weight_Sio2\n",
    "    return H_t\n",
    "def mgo_enthalpy(T):\n",
    "    t=T/1000\n",
    "    A=47.25995\n",
    "    B=5.681621\n",
    "    C=-0.872665\n",
    "    D=0.104300\n",
    "    E=-1.053955\n",
    "    F=-619.1316\n",
    "    G=76.46176\n",
    "    H=-601.2408\n",
    "    H_t=(A*t +(B*t**2)/2 +(C*t**3)/3 + (D*t**4)/4-(E/t)+F-H)/mol_weight_cao\n",
    "    return H_t\n",
    "def cao_enthalpy(T):\n",
    "    t=T/1000\n",
    "    A=49.95403\n",
    "    B=4.887916\n",
    "    C=-0.353056\n",
    "    D=0.046187\n",
    "    E=-0.825097\n",
    "    F=-652.9718\n",
    "    G=92.56096\n",
    "    H=-635.0894\n",
    "    H_t=(A*t +(B*t**2)/2 +(C*t**3)/3 + (D*t**4)/4-(E/t)+F-H)/mol_weight_mgo\n",
    "    return H_t\n",
    "def CH4_enthalpy_1(T):# T in the range 298-1000 K\n",
    "    t=T/1000\n",
    "    A=-0.703029\n",
    "    B=108.4773\n",
    "    C=-42.52157\n",
    "    D=5.862788\n",
    "    E=0.678565\n",
    "    F=-76.84376\n",
    "    G=158.7163\n",
    "    H=-74.87310\n",
    "    H_t=(A*t +(B*t**2)/2 +(C*t**3)/3 + (D*t**4)/4-(E/t)+F-H)/mol_weight_CH4\n",
    "    return H_t\n",
    "def CH4_enthalpy_2(T):# T in range 1300-6000 K\n",
    "    t=T/1000\n",
    "    A=85.81217\n",
    "    B=11.26467\n",
    "    C=-2.114146\n",
    "    D=0.138190\n",
    "    E=-26.42221\n",
    "    F=-153.5327\n",
    "    G=224.4143\n",
    "    H=-74.87310\n",
    "    H_t=(A*t +(B*t**2)/2 +(C*t**3)/3 + (D*t**4)/4-(E/t)+F-H)/mol_weight_CH4\n",
    "    return H_t\n",
    "def C_enthalpy(T):# T in the range 298-1000 K\n",
    "    t=T/1000\n",
    "    A=21.17510\n",
    "    B=-0.812428\n",
    "    C=0.448537\n",
    "    D=-0.043256\n",
    "    E=-0.013103\n",
    "    F=710.3470\n",
    "    G=183.8734\n",
    "    H=716.6690\n",
    "    H_t=(A*t +(B*t**2)/2 +(C*t**3)/3 + (D*t**4)/4-(E/t)+F-H)/mol_weight_C\n",
    "    return H_t# The value of enthalpy returned is the specific enthalpy in kj/g\n",
    "\n"
   ]
  },
  {
   "cell_type": "markdown",
   "metadata": {},
   "source": [
    "## Stochiometric calculations for the amount of Hydrogen required for reduction of iron\n",
    "\n",
    "Iron ore is reducd by hydrogen at a temperature of 800-900 C in an endothermic reaction using 99.5 kJ/mol.<br />\n",
    "$Fe_{2}O_{3}+ 3H_{2}---> 2Fe + 3H_{2}O$"
   ]
  },
  {
   "cell_type": "code",
   "execution_count": 6,
   "metadata": {},
   "outputs": [
    {
     "name": "stdout",
     "output_type": "stream",
     "text": [
      "Mass of iron ore fed to the shaft furnace in kg/tls: 1.601056034454668\n",
      "Mass of wustite  DRI_EAF processin kg/tls: 0.0638297872340426\n",
      "Mass of SiO2 in kg/tls 0.04803168103364004\n",
      "Mass of Al2O3 in kg/tls 0.03202112068909336\n",
      "Mass flow of Fe 1.0191855501206075\n"
     ]
    }
   ],
   "source": [
    "# Metallization rates considered for the DRI reduction shaft furnace\n",
    "alpha=0.94 \n",
    "# Percentage of hematite in the raw material. \n",
    "fe2O3_pure=0.95 \n",
    "# percentage of iron in one mole of iron ore \n",
    "Fe_O_ratio=((2*mol_weight_fe)/mol_weight_fe2o3)\n",
    "# kg of steel produced in the DRI-EAF system (1 ton)\n",
    "m3=1\n",
    "# Weight of total iron ore fed to the DRI-EAF system\n",
    "m1=m3/(fe2O3_pure*Fe_O_ratio*alpha)\n",
    "T1=298 #pellet temperature\n",
    "# Depends on the slag content , metallization rate \n",
    "m2_feo=(m1*fe2O3_pure*(1-alpha)*Fe_O_ratio) \n",
    "#print(\"FeO percentage :\",m4_feo)\n",
    "# Percentage of silica in the ore pellets\n",
    "SIO2_per=0.03 \n",
    "#Percentage of alumina in the ore pellets\n",
    "Al2O3_per=0.02 \n",
    "m1_sio2=(m1*SIO2_per)# SiO2 weight in ton\n",
    "m1_al2o3=(m1*Al2O3_per) # weight in ton\n",
    "m2_fe=(m1-(m1_sio2+m1_al2o3+m2_feo))*Fe_O_ratio\n",
    "print(\"Mass of iron ore fed to the shaft furnace in kg/tls:\",m1)\n",
    "print(\"Mass of wustite  DRI_EAF processin kg/tls:\",m2_feo)\n",
    "print(\"Mass of SiO2 in kg/tls\",m1_sio2)\n",
    "print(\"Mass of Al2O3 in kg/tls\",m1_al2o3)\n",
    "print(\"Mass flow of Fe\",m2_fe)\n",
    "\n",
    "## Stocichiometric calculations"
   ]
  },
  {
   "cell_type": "code",
   "execution_count": 7,
   "metadata": {},
   "outputs": [
    {
     "name": "stdout",
     "output_type": "stream",
     "text": [
      "Hydrogen required to produce 1 ton of iron in kg/ton of iron: 54.146655922643035\n"
     ]
    }
   ],
   "source": [
    "# to produce 1 mole of iron 2/3 rd mole of hydrogen are required\n",
    "H2_per_mol=3/2 \n",
    "# Weight of H2 for producing one mole of Fe in gms\n",
    "H2_weight=(H2_per_mol)*mol_weight_H2 \n",
    "# Number of moles in 1 ton of Fe\n",
    "mol_per_ton_fe=(1000000)/mol_weight_fe\n",
    "# Weight of hydrogen in kg to reduce 1 ton of Fe2O3\n",
    "h2_per_ton_steel=(H2_weight*mol_per_ton_fe)/1000 \n",
    "\n",
    "print(\"Hydrogen required to produce 1 ton of iron in kg/ton of iron:\",h2_per_ton_steel)\n",
    "\n"
   ]
  },
  {
   "cell_type": "markdown",
   "metadata": {},
   "source": [
    "# Calculations are based on the production of 200 kt of hydrogen per annum."
   ]
  },
  {
   "cell_type": "code",
   "execution_count": 8,
   "metadata": {},
   "outputs": [],
   "source": [
    "h2_prod_yr=200000000 #in kg per year "
   ]
  },
  {
   "cell_type": "code",
   "execution_count": 9,
   "metadata": {},
   "outputs": [],
   "source": [
    "# Plant is operational 95% of the time in an year \n",
    "operating_hours=365*24*0.95 "
   ]
  },
  {
   "cell_type": "code",
   "execution_count": 10,
   "metadata": {},
   "outputs": [
    {
     "data": {
      "text/plain": [
       "24032.68445085316"
      ]
     },
     "execution_count": 10,
     "metadata": {},
     "output_type": "execute_result"
    }
   ],
   "source": [
    "h2_prod_hr=h2_prod_yr/operating_hours\n",
    "h2_prod_hr"
   ]
  },
  {
   "cell_type": "markdown",
   "metadata": {},
   "source": [
    "### Hydrogen required for reduction of iron oxide for  1 ton of Fe production (Actual)\n",
    " Actual amount of hydrogen entering the shaft furnace is higher than the stoichiometric value.The ration between the actual value and the stoichiometric value is defined as lambda_$h_2$ in these calculations.\n"
   ]
  },
  {
   "cell_type": "code",
   "execution_count": 11,
   "metadata": {},
   "outputs": [],
   "source": [
    "#Excess hydrogen fed in the dri shaft furnace for complete reduction of iron ore \n",
    "lambda_h2=1.20"
   ]
  },
  {
   "cell_type": "code",
   "execution_count": 12,
   "metadata": {},
   "outputs": [],
   "source": [
    "# Calculating the actual amount of hydrogen required for production of one ton of steel\n",
    "h2_per_ton_actual=lambda_h2*h2_per_ton_steel\n",
    "m4=h2_per_ton_actual # mass flow rate of hydrogen entering the shaft furnace"
   ]
  },
  {
   "cell_type": "markdown",
   "metadata": {},
   "source": [
    "### Calculate the amount of steel produced per hour "
   ]
  },
  {
   "cell_type": "code",
   "execution_count": 13,
   "metadata": {},
   "outputs": [],
   "source": [
    "steel_per_hr=h2_prod_hr/h2_per_ton_actual\n",
    "steel_prod_yr=steel_per_hr*operating_hours\n",
    "    "
   ]
  },
  {
   "cell_type": "markdown",
   "metadata": {},
   "source": [
    "### Carbon production from  methane pyrolysis"
   ]
  },
  {
   "cell_type": "code",
   "execution_count": 14,
   "metadata": {},
   "outputs": [],
   "source": [
    "carbon_per_hr=(h2_prod_hr*3) # based on stoichiometry\n",
    "carbon_per_year=carbon_per_hr*operating_hours\n"
   ]
  },
  {
   "cell_type": "markdown",
   "metadata": {},
   "source": [
    "## Energy analysis"
   ]
  },
  {
   "cell_type": "markdown",
   "metadata": {},
   "source": [
    "![title](Bubble_column_reactor_subssytem.png)"
   ]
  },
  {
   "cell_type": "code",
   "execution_count": 15,
   "metadata": {},
   "outputs": [],
   "source": [
    "T_reactor=1200 #in C"
   ]
  },
  {
   "cell_type": "code",
   "execution_count": 16,
   "metadata": {},
   "outputs": [],
   "source": [
    "conversion_meth=0.90"
   ]
  },
  {
   "cell_type": "code",
   "execution_count": 17,
   "metadata": {},
   "outputs": [],
   "source": [
    "met_feed_rate=1837 #mol/sec"
   ]
  },
  {
   "cell_type": "code",
   "execution_count": 18,
   "metadata": {},
   "outputs": [],
   "source": [
    "#Multiplied by the molecular weight of methane\n",
    "met_feed_rate_kg=met_feed_rate*0.016 \n"
   ]
  },
  {
   "cell_type": "code",
   "execution_count": 19,
   "metadata": {},
   "outputs": [],
   "source": [
    "met_feed_rate_kg_hr=met_feed_rate_kg*(3600) \n",
    "hydrogen_per_hr=(met_feed_rate_kg_hr*conversion_meth)/4\n",
    " \n"
   ]
  },
  {
   "cell_type": "code",
   "execution_count": 20,
   "metadata": {},
   "outputs": [],
   "source": [
    "#Reactor diameter\n",
    "dia_reac=5.21"
   ]
  },
  {
   "cell_type": "code",
   "execution_count": 21,
   "metadata": {},
   "outputs": [],
   "source": [
    "len_reac=8.66\n"
   ]
  },
  {
   "cell_type": "code",
   "execution_count": 22,
   "metadata": {},
   "outputs": [],
   "source": [
    "vol_reac=(3.14*dia_reac*dia_reac*len_reac)/4\n",
    "sur_area_reac=((2*np.pi*(dia_reac/2)) * len_reac) + ((np.pi*(dia_reac/2)**2)*2)"
   ]
  },
  {
   "cell_type": "code",
   "execution_count": 23,
   "metadata": {},
   "outputs": [],
   "source": [
    "p_reac_bot=19.1\n",
    "p_reac_top=15.3"
   ]
  },
  {
   "cell_type": "code",
   "execution_count": 24,
   "metadata": {},
   "outputs": [],
   "source": [
    "gas_holdup_bot=0.22\n",
    "gas_holdup_top=0.32\n",
    "gas_holdup_avg=0.294\n"
   ]
  },
  {
   "cell_type": "code",
   "execution_count": 25,
   "metadata": {},
   "outputs": [
    {
     "name": "stdout",
     "output_type": "stream",
     "text": [
      "130.27698418426002\n"
     ]
    }
   ],
   "source": [
    "\n",
    "v_metal=(vol_reac*(1-gas_holdup_avg))\n",
    "print(v_metal)"
   ]
  },
  {
   "cell_type": "markdown",
   "metadata": {},
   "source": [
    "## Energy consumption and emissions from different reactor configurations "
   ]
  },
  {
   "cell_type": "code",
   "execution_count": 26,
   "metadata": {},
   "outputs": [],
   "source": [
    "\n",
    "\n",
    "t=(T_reactor+273.15)\n"
   ]
  },
  {
   "cell_type": "markdown",
   "metadata": {},
   "source": [
    "### Enthalpy of hydrogen exiting the reactor \n",
    "H° − H°298.15= A*t + B*t2/2 + C*t3/3 + D*t4/4 − E/t + F − H\n",
    "source : https://webbook.nist.gov/cgi/cbook.cgi?ID=C1333740&Mask=1&Type=JANAFG&Plot=on"
   ]
  },
  {
   "cell_type": "code",
   "execution_count": 27,
   "metadata": {},
   "outputs": [],
   "source": [
    "   \n",
    "\n",
    "H_hydrogen_si_perkg=H2_enthalpy_2(t)*1000    \n",
    "# hydrogen demand per ton steel =m3\n",
    "# convert kJ to KWh by dividing the value with 3600\n",
    "H_hydrogen_tls=(H_hydrogen_si_perkg*m4)/3600\n",
    "configuration=1"
   ]
  },
  {
   "cell_type": "markdown",
   "metadata": {},
   "source": [
    "## Heat recovered from Hydrogen stream "
   ]
  },
  {
   "cell_type": "code",
   "execution_count": 28,
   "metadata": {},
   "outputs": [],
   "source": [
    "t1=1173.15 # in Kelvin, temperature of the input hydrogen stream"
   ]
  },
  {
   "cell_type": "code",
   "execution_count": 29,
   "metadata": {},
   "outputs": [],
   "source": [
    "H_hydrogen_recovered_tls=((H2_enthalpy_2(t)-H2_enthalpy_2(t1))*m4)/3.6    "
   ]
  },
  {
   "cell_type": "code",
   "execution_count": 30,
   "metadata": {},
   "outputs": [
    {
     "data": {
      "text/plain": [
       "84.6820502391429"
      ]
     },
     "execution_count": 30,
     "metadata": {},
     "output_type": "execute_result"
    }
   ],
   "source": [
    "H_hydrogen_recovered_tls"
   ]
  },
  {
   "cell_type": "code",
   "execution_count": 31,
   "metadata": {},
   "outputs": [],
   "source": [
    "ch4_inlet_temp=[]\n",
    "h_methane_inlet_enth=[]"
   ]
  },
  {
   "cell_type": "code",
   "execution_count": 32,
   "metadata": {},
   "outputs": [
    {
     "name": "stdout",
     "output_type": "stream",
     "text": [
      "Temperature of the stream entering the shaft furnace is : 672\n"
     ]
    }
   ],
   "source": [
    "# find the inlet temperature of the methane stream entering the shaft furnace\n",
    "for i in range(298,973):\n",
    "    \n",
    "    #rint(i)\n",
    "    h_methane_inlet=((CH4_enthalpy_1(i)*1000*met_feed_rate_kg_hr)/(3600*steel_per_hr))\n",
    "    #print(h_methane_inlet)\n",
    "    if h_methane_inlet<H_hydrogen_recovered_tls:\n",
    "        ch4_inlet_temp.append(i)\n",
    "       \n",
    "    else:\n",
    "        break\n",
    "print('Temperature of the stream entering the shaft furnace is :',ch4_inlet_temp[len(ch4_inlet_temp)-1])"
   ]
  },
  {
   "cell_type": "markdown",
   "metadata": {},
   "source": [
    "### Energy required to heat methane \n",
    "\n",
    "Source : https://webbook.nist.gov/cgi/cbook.cgi?ID=C74828&Units=SI&Mask=1&Type=JANAFG&Plot=on\n"
   ]
  },
  {
   "cell_type": "code",
   "execution_count": 33,
   "metadata": {},
   "outputs": [],
   "source": [
    "H_methane_si_perkg=(CH4_enthalpy_2(t)-CH4_enthalpy_2(ch4_inlet_temp[-1]))*1000\n",
    "H_methane_total=(H_methane_si_perkg*met_feed_rate_kg_hr)/3600\n",
    "H_methane_tls=H_methane_total/steel_per_hr\n",
    "\n"
   ]
  },
  {
   "cell_type": "code",
   "execution_count": 34,
   "metadata": {},
   "outputs": [
    {
     "data": {
      "text/plain": [
       "'plt.scatter(configuration,H_methane_tls,color=\\'red\\')\\naxes = plt.gca()\\naxes.set_ylim([None,None])\\nplt.xlabel(\"Reactor configurations\")\\nplt.ylabel(\"Enthalpy methane in KWh/tls\")'"
      ]
     },
     "execution_count": 34,
     "metadata": {},
     "output_type": "execute_result"
    }
   ],
   "source": [
    "\"\"\"plt.scatter(configuration,H_methane_tls,color='red')\n",
    "axes = plt.gca()\n",
    "axes.set_ylim([None,None])\n",
    "plt.xlabel(\"Reactor configurations\")\n",
    "plt.ylabel(\"Enthalpy methane in KWh/tls\")\"\"\""
   ]
  },
  {
   "cell_type": "markdown",
   "metadata": {},
   "source": [
    "### Reaction enthalpy calculation\n",
    "CH<sub>4</sub>---->>  C+2H<sub>2</sub>"
   ]
  },
  {
   "cell_type": "code",
   "execution_count": 35,
   "metadata": {},
   "outputs": [],
   "source": [
    "H_reac=74.5 #kj/mole\n",
    "H_reac_kg=(H_reac/mol_weight_CH4)*1000#Molecular weight of methane\n",
    "\n"
   ]
  },
  {
   "cell_type": "code",
   "execution_count": 36,
   "metadata": {},
   "outputs": [
    {
     "data": {
      "text/plain": [
       "332.1805187404665"
      ]
     },
     "execution_count": 36,
     "metadata": {},
     "output_type": "execute_result"
    }
   ],
   "source": [
    "\n",
    "H_reac_total=(met_feed_rate_kg_hr*H_reac_kg*conversion_meth)/3600\n",
    "H_reac_tls=H_reac_total/steel_per_hr    \n",
    "H_reac_tls"
   ]
  },
  {
   "cell_type": "markdown",
   "metadata": {},
   "source": [
    "### Energy calculations\n",
    "#### Enthalpy of carbon \n",
    "https://webbook.nist.gov/cgi/cbook.cgi?ID=C7440440&Type=JANAFG&Plot=on\n",
    "\n",
    "It is assumed that 75% of the energy going out from th carbon stream is recovered by passing the incoming natural gas stream through the hot carbon bed. The outlet temperature should not be more than 800 C, otherwise natural gas pyrolysis will start before entering the bubble column reactor."
   ]
  },
  {
   "cell_type": "code",
   "execution_count": 37,
   "metadata": {},
   "outputs": [],
   "source": [
    "### Carbon production from  methane pyrolysis\n",
    "\n",
    "# based on the reaction for every 1 kg of H2, 3 kg of carbon is produced\n",
    "carbon_per_hr=hydrogen_per_hr*3 \n",
    "carbon_per_tls=carbon_per_hr/steel_per_hr\n",
    "# It is assumed that the carbon deposited at the top \n",
    "#of the molten metal is at the same temperature as the reactor \n",
    "\n",
    "\n",
    "H_carbon_si_perkg=C_enthalpy(t)*1000    \n",
    "H_carbon_total=(H_carbon_si_perkg*carbon_per_hr)/3600\n",
    "H_carbon_tls=H_carbon_total/steel_per_hr\n"
   ]
  },
  {
   "cell_type": "code",
   "execution_count": 38,
   "metadata": {},
   "outputs": [
    {
     "data": {
      "text/plain": [
       "'plt.scatter(configuration,H_carbon_tls)\\naxes=plt.gca()\\naxes.set_ylim([None,None])\\nplt.xlabel(\"Reactor temperature in C\")\\nplt.ylabel(\"Enthalpy of the carbon in KWh/tls\")'"
      ]
     },
     "execution_count": 38,
     "metadata": {},
     "output_type": "execute_result"
    }
   ],
   "source": [
    "\"\"\"plt.scatter(configuration,H_carbon_tls)\n",
    "axes=plt.gca()\n",
    "axes.set_ylim([None,None])\n",
    "plt.xlabel(\"Reactor temperature in C\")\n",
    "plt.ylabel(\"Enthalpy of the carbon in KWh/tls\")\"\"\""
   ]
  },
  {
   "cell_type": "code",
   "execution_count": null,
   "metadata": {},
   "outputs": [],
   "source": []
  },
  {
   "cell_type": "markdown",
   "metadata": {},
   "source": [
    "### Total energy requirement per hour "
   ]
  },
  {
   "cell_type": "code",
   "execution_count": 39,
   "metadata": {},
   "outputs": [
    {
     "data": {
      "text/plain": [
       "0.8421227516383811"
      ]
     },
     "execution_count": 39,
     "metadata": {},
     "output_type": "execute_result"
    }
   ],
   "source": [
    "\n",
    "# 75% of the outgoing energy from the carbon stream is recovered, \n",
    "# so only 25 % of the outgoing energy\n",
    "# needs to be resupplied.\n",
    "eta_el_lmbr=0.8\n",
    "H_per_ton_steel=(H_reac_tls+H_hydrogen_tls+H_carbon_tls-H_hydrogen_recovered_tls)/(1000*eta_el_lmbr)#MWh\n",
    "H_per_ton_hydrogen= H_per_ton_steel/(lambda_h2*54)\n",
    "H_per_ton_steel"
   ]
  },
  {
   "cell_type": "code",
   "execution_count": 40,
   "metadata": {},
   "outputs": [
    {
     "data": {
      "text/plain": [
       "\"plt.figure(figsize=(12,5))\\nplt.scatter(configuration,H_per_ton_steel)\\naxes = plt.gca()\\naxes.set_ylim([None,None])\\nplt.xlabel('Reactor configuration')\\nplt.ylabel('Energy required per tls in MWh')\""
      ]
     },
     "execution_count": 40,
     "metadata": {},
     "output_type": "execute_result"
    }
   ],
   "source": [
    "\"\"\"plt.figure(figsize=(12,5))\n",
    "plt.scatter(configuration,H_per_ton_steel)\n",
    "axes = plt.gca()\n",
    "axes.set_ylim([None,None])\n",
    "plt.xlabel('Reactor configuration')\n",
    "plt.ylabel('Energy required per tls in MWh')\"\"\""
   ]
  },
  {
   "cell_type": "markdown",
   "metadata": {},
   "source": [
    "## Natural gas required for providing  energy to the reactor \n",
    "\n",
    "Some of the natural gas remains unused in the reactor and can be separated and used for providing the heat for the reaction. "
   ]
  },
  {
   "cell_type": "code",
   "execution_count": 41,
   "metadata": {},
   "outputs": [],
   "source": [
    "\n",
    "\n",
    "\n",
    "\n",
    "total_ng_req_tls=(met_feed_rate_kg_hr/steel_per_hr)\n",
    "\n"
   ]
  },
  {
   "cell_type": "code",
   "execution_count": 42,
   "metadata": {
    "scrolled": true
   },
   "outputs": [
    {
     "data": {
      "text/plain": [
       "\"plt.scatter(configuration,total_ng_req_tls)\\naxes = plt.gca()\\naxes.set_ylim([None,None])\\nplt.xlabel('Reactor configuration')\\nplt.ylabel('NG required per tls in kg')\""
      ]
     },
     "execution_count": 42,
     "metadata": {},
     "output_type": "execute_result"
    }
   ],
   "source": [
    "\"\"\"plt.scatter(configuration,total_ng_req_tls)\n",
    "axes = plt.gca()\n",
    "axes.set_ylim([None,None])\n",
    "plt.xlabel('Reactor configuration')\n",
    "plt.ylabel('NG required per tls in kg')\"\"\""
   ]
  },
  {
   "cell_type": "markdown",
   "metadata": {},
   "source": [
    "### Electrical energy required for heating the reactor "
   ]
  },
  {
   "cell_type": "code",
   "execution_count": 43,
   "metadata": {},
   "outputs": [],
   "source": [
    "el_heater_cost=50\n",
    "  "
   ]
  },
  {
   "cell_type": "markdown",
   "metadata": {},
   "source": [
    "## Emission calculations "
   ]
  },
  {
   "cell_type": "code",
   "execution_count": null,
   "metadata": {},
   "outputs": [],
   "source": [
    "\n",
    " "
   ]
  },
  {
   "cell_type": "code",
   "execution_count": 44,
   "metadata": {},
   "outputs": [
    {
     "data": {
      "text/plain": [
       "\"plt.scatter(configuration,total_emission_reac)\\naxes = plt.gca()\\naxes.set_ylim([1.5,None])\\nplt.xlabel('Reactor configuration')\\nplt.ylabel('Emission in tonne of CO2/tls')\\ntotal_emission_reac\""
      ]
     },
     "execution_count": 44,
     "metadata": {},
     "output_type": "execute_result"
    }
   ],
   "source": [
    "\"\"\"plt.scatter(configuration,total_emission_reac)\n",
    "axes = plt.gca()\n",
    "axes.set_ylim([1.5,None])\n",
    "plt.xlabel('Reactor configuration')\n",
    "plt.ylabel('Emission in tonne of CO2/tls')\n",
    "total_emission_reac\"\"\""
   ]
  },
  {
   "cell_type": "markdown",
   "metadata": {},
   "source": [
    "## Liquid tin thermophysical property calculation\n",
    "\n",
    "#### Reference : https://link.springer.com/content/pdf/10.1134/S0036029518020143.pdf\n"
   ]
  },
  {
   "cell_type": "code",
   "execution_count": 45,
   "metadata": {},
   "outputs": [],
   "source": [
    "T1_tin=505\n",
    "#Calculation of delta h in j/mol\n",
    "\n",
    "# for t in range of 298 to 505 K\n",
    "h1_tin=-5855.135+15.961*T1_tin+((18.8702/1000)*T1_tin**2)-(6.2472334*10**-6*T1_tin**3)-(123920/T1_tin) \n",
    "\n",
    "h1_j_g=h1_tin/mol_weight_tin\n",
    "T2_tin=800\n",
    "#T in the range of 505 to 800 K\n",
    "h2_tin=9496.31+8.2590486*T2_tin+((16.814429/1000)*T2_tin*T2_tin)-(5.24626*10**-6*(1/T2_tin**3))-(2162488/T2_tin)\n",
    "\n",
    "T3_tin=T_reactor\n",
    "h3_tin=[]\n",
    "# T in the range of 800 to 3000 K\n",
    "\n",
    " \n",
    "h3_tin=-1285.372+28.4512*T3_tin\n",
    " \n",
    "H_kj_kg=h3_tin/mol_weight_tin\n",
    "\n",
    "#### Heat required for heating tin inside the bubble column reactor from 298 K to T_final\n",
    "H_tin=H_kj_kg\n"
   ]
  },
  {
   "cell_type": "code",
   "execution_count": 46,
   "metadata": {},
   "outputs": [
    {
     "data": {
      "text/plain": [
       "850.1761552561901"
      ]
     },
     "execution_count": 46,
     "metadata": {},
     "output_type": "execute_result"
    }
   ],
   "source": [
    "### Density variation of liquid tin with changing temperature\n",
    "\n",
    "#### Reference : https://sci-hub.se/https://doi.org/10.1063/1.3467496\n",
    "\n",
    "c3=6979 #kg/m3\n",
    "c4=0.652 \n",
    "t_ref=505.08\n",
    "\n",
    "\n",
    "rho_final=c3-c4*(T_reactor-t_ref)\n",
    "### Calculation of weight of liquid tin \n",
    "\n",
    "weight_tin=rho_final*v_metal\n",
    "weight_tin/1000"
   ]
  },
  {
   "cell_type": "markdown",
   "metadata": {},
   "source": [
    "### Capital cost of the metal\n",
    "#### Source : https://tradingeconomics.com/commodity/tin"
   ]
  },
  {
   "cell_type": "code",
   "execution_count": 47,
   "metadata": {},
   "outputs": [],
   "source": [
    "\n",
    "cost_perkg=tinprice/1000 # Converted to Euros \n",
    "\n",
    "\n",
    "tin_cost=weight_tin*cost_perkg\n",
    "#Cost of tin in million Euros\n",
    "million=10**6\n",
    "tin_cost_million=tin_cost/million\n"
   ]
  },
  {
   "cell_type": "markdown",
   "metadata": {},
   "source": [
    "## HDRI-EAF calculations "
   ]
  },
  {
   "cell_type": "markdown",
   "metadata": {},
   "source": [
    "![title](DRI_subsystem.png)"
   ]
  },
  {
   "cell_type": "markdown",
   "metadata": {},
   "source": [
    "\n",
    "# Mass and energy balance for a direct reduction shaft furnace \n",
    "\n",
    "Iron ore pellets containing upto 5% impurities eneter the direct shaft furnace.\n",
    "\n",
    "${M_{Fe_{2}O_{3}}=\\frac{1}{({Fe_{2}O_{3}}_{pure}*FeO_{ratio}*alpha)}}$ <br />\n",
    "Where, <br />\n",
    "$M_{Fe_{2}O_{3}}$= Mass flow rate of iron ore for production of 1 ton of liquid steel in kg/tls<br />\n",
    "${Fe_{2}O_{3}}_{pure}$=Percentage of pure iron ore in the iron ore stream (assumed to be 0.95)<br />\n",
    "$FeO_{ratio}$=Ratio of molecular weight of iron contained in iron oxide (0.7) <br />\n"
   ]
  },
  {
   "cell_type": "code",
   "execution_count": null,
   "metadata": {},
   "outputs": [],
   "source": []
  },
  {
   "cell_type": "code",
   "execution_count": 48,
   "metadata": {},
   "outputs": [],
   "source": [
    "## Enthalpy of hydrogen entering the shaft furnace\n",
    "dri_temp=900\n",
    "T4=(dri_temp+273.15)# k\n",
    "\n",
    "if T4<1000:\n",
    "    h4=(H2_enthalpy_1(T4)*m4*1000) #kj/kg\n",
    "    h4_kwh=(h4/3600)\n",
    "elif T4>1000:\n",
    "    h4=(H2_enthalpy_2(T4)*m4*1000) #kj/kg \n",
    "    h4_kwh=(h4/3600)\n",
    "\n"
   ]
  },
  {
   "cell_type": "code",
   "execution_count": 49,
   "metadata": {},
   "outputs": [],
   "source": [
    "## Mass flow rate of waste gases from the shaft furnace \n",
    "\n",
    "# Mass flow rate of water in the waste stream per ton of steel production\n",
    "\n",
    "water_tls=((3*mol_weight_H2O)/(2*mol_weight_fe))*1000\n",
    "#print(\"Amount of water in the waste stream in kg/tls\",water_tls)\n",
    "## Calculation of the hydrogen in the waste stream \n",
    "m5_h2=(h2_per_ton_steel*(lambda_h2-1)) #Kg/tls\n",
    "m5_h2o=water_tls\n",
    "m5=(m5_h2+m5_h2o)\n",
    "# The value varies with input flow rate of hydrogen inside the shaft furnace\n",
    "#print(\"Amount of hydrogen in the waste stream per ton of steel production in kg/tls\",m5_h2,m5_h2o)\n"
   ]
  },
  {
   "cell_type": "code",
   "execution_count": 50,
   "metadata": {},
   "outputs": [],
   "source": [
    "## Exhaust stream enthalpy\n",
    "\n",
    "\"\"\"Temperature of the exhaust stream could vary according to the input\n",
    "temperature and flow rate of the hydrogen stream.\n",
    "Plant data from Syngas based DRI shaft furnace show that the temperature could vary from 275 C to 400 C.\n",
    "Higher temperatures are witnessed when the content of CO in the Syngas is higher.\n",
    "The reduction reaction between heamtite and CO is exothermic.\n",
    "On the other hand , hyrogen reduction of hematite is endothermic.\n",
    "Assumed temperature of 300 C for the enthalpy calculation.\"\"\"\n",
    " \n",
    "\n",
    "# K Temperature of the exhaust gas leaving the reduction shaft furnace\n",
    "T5=573\n",
    "\n",
    "### Energy contained in water stream\n",
    "\n",
    "\n",
    "h5_h2o=(m5_h2o*H2O_enthalpy(T5)*1000) #kJ/tls\n",
    "h5_h2=(H2_enthalpy_1(T5)*m5_h2*1000) #kJ/tls\n",
    "h5=(h5_h2o+h5_h2)\n",
    "h5_kwh=(h5/3600)\n"
   ]
  },
  {
   "cell_type": "code",
   "execution_count": 51,
   "metadata": {},
   "outputs": [],
   "source": [
    "\n",
    "## Reaction enthalpy calculation\n",
    "#The reaction enthalpy has been taken as 99.5 kJ/mol based on stoichiometric calculations.\n",
    "\n",
    "h_activation=35 # kJ/mol activation enthalpy\n",
    "h_endothermic=99.5 # reaction enthalpy kJ/mol\n",
    "#Adding the activation enthalpy to the reaction enthalpy\n",
    "# value in kJ/mol\n",
    "h_reaction=h_activation+h_endothermic\n",
    "# Amount of heat to be supplied in kJ for production of 1 ton of molten steel\n",
    "h_reac=(h_reaction*m1*1000*fe2O3_pure)/mol_weight_fe2o3\n"
   ]
  },
  {
   "cell_type": "code",
   "execution_count": 52,
   "metadata": {},
   "outputs": [],
   "source": [
    "## Energy contained in the solid stream exiting the DRI\n",
    "\n",
    "\"\"\"Enthalpy of the residual FeO in the slag stream : https://webbook.nist.gov/cgi/cbook.cgi?ID=C1345251&Mask=2\"\"\"\n",
    "\n",
    "# The constants are used for a temperature range of 298-1650 K \n",
    "# Exit temperature of the FeO stream contained in the solid stream exiting the reactor\n",
    "\n",
    "T2=873\n",
    "\n",
    "\n",
    "h2=((fe_enthalpy(T2)*m2_fe+sio2_enthalpy(T2)*m1_sio2+\n",
    "    Al2O3_enthalpy(T2)*m1_al2o3+feo_enthalpy(T2)*m2_feo)*1000)*1000\n",
    "\n",
    "h2_kwh=h2/3600\n"
   ]
  },
  {
   "cell_type": "code",
   "execution_count": 53,
   "metadata": {},
   "outputs": [],
   "source": [
    "## Energy balance of the shaft furnace\n",
    "\n",
    "\n",
    "Q_dri=((h5+h2)-h4)/3600\n",
    "\n"
   ]
  },
  {
   "cell_type": "code",
   "execution_count": 54,
   "metadata": {},
   "outputs": [],
   "source": [
    "## Electric arc furnace mass and energy balance \n",
    "\n",
    "## input and tap temperatures\n",
    "\n",
    "T3=1923 # Tap temperature of the molten steel 1650 C\n",
    "\n",
    "## Energy required to melt Fe in the EAF\n",
    "\n",
    "# Reference : NIST https://webbook.nist.gov/cgi/cbook.cgi?ID=C7439896&Mask=2&Type=JANAFS&Table=on\n",
    "Hfe_melting=247 # Melting enthalpy of steel per ton in Kj/kg\n",
    "#https://materialsdata.nist.gov/bitstream/handle/11115/166/Thermophysical%20Properties.pdf?sequence=3\n",
    "Hfe_T2=fe_enthalpy(T2) # Enthalpy of DRI at the input \n",
    "Hfe_T3=fe_enthalpy_2(T3) # Enthalpy of molten steel at the output\n",
    "h3=(((Hfe_T3-Hfe_T2)*m2_fe*1000)+(m2_fe*Hfe_melting))*1000#kj/kg\n",
    "h3_kwh=h3/3600 #kwh/tls\n",
    "h3_kwh\n",
    "\n",
    "\n",
    "eta_el=0.60 # Efficiency of the transformer, arc \n",
    "#, heat transfer, cooling losses, waste gas stream taken into consideration\n",
    "# The efficincy is considered lower to account for the loss of energy from the\n",
    "#scrap stream, the use of slag formers etc\n",
    "el_eaf=(h3_kwh)/eta_el\n"
   ]
  },
  {
   "cell_type": "code",
   "execution_count": 55,
   "metadata": {},
   "outputs": [
    {
     "name": "stdout",
     "output_type": "stream",
     "text": [
      "Specific energy consumption of HDRI-EAF in MWh/tls 0.5281038438147679\n"
     ]
    }
   ],
   "source": [
    "\n",
    "# Specific energy consumption of HDRI-EAF system\n",
    "\n",
    "if Q_dri>0:\n",
    "    EL_total=(el_eaf+(Q_dri/3600))\n",
    "else:\n",
    "    EL_total=(el_eaf)\n",
    "EL_total_MWh=EL_total/1000\n",
    "print(\"Specific energy consumption of HDRI-EAF in MWh/tls\",EL_total_MWh)\n",
    "\n",
    "\n"
   ]
  },
  {
   "cell_type": "code",
   "execution_count": 56,
   "metadata": {},
   "outputs": [],
   "source": [
    "ng_energy_feedstock=(total_ng_req_tls*48)/3.6"
   ]
  },
  {
   "cell_type": "markdown",
   "metadata": {},
   "source": [
    "## Total energy consumption of Methane pyrolysis based HDRI-EAF system"
   ]
  },
  {
   "cell_type": "code",
   "execution_count": 57,
   "metadata": {},
   "outputs": [],
   "source": [
    "\n",
    "\n",
    "E_total_MWh=H_per_ton_steel+EL_total_MWh\n"
   ]
  },
  {
   "cell_type": "code",
   "execution_count": 58,
   "metadata": {},
   "outputs": [
    {
     "data": {
      "text/plain": [
       "Text(0.05, 0.95, 'NG used as feedstock : 3.65 MWh/tls')"
      ]
     },
     "execution_count": 58,
     "metadata": {},
     "output_type": "execute_result"
    },
    {
     "data": {
      "image/png": "[encoded data removed]",
      "text/plain": [
       "<Figure size 1080x1080 with 1 Axes>"
      ]
     },
     "metadata": {
      "needs_background": "light"
     },
     "output_type": "display_data"
    }
   ],
   "source": [
    "energy_consumption=[H_per_ton_steel*1000,el_eaf,E_total_MWh*1000]\n",
    "components=['Bubble column reactor','EAF','System']\n",
    "my_colors=['r','g','cyan']\n",
    "plt.bar(components, energy_consumption,color=my_colors,alpha=0.8,width=0.4)\n",
    "plt.ylabel('System components')\n",
    "plt.xlabel('Energy consumption in KWh/tls')\n",
    "plt.annotate('NG used as feedstock : 3.65 MWh/tls', xy=(0.05, 0.95), xycoords='axes fraction')\n",
    "#plt.savefig('Energy_consumption.png',dpi=1200, bbox_inches='tight')\n",
    "#plt.savefig('Energy_consumption_pyrolysis.pdf',dpi=1200, bbox_inches='tight')"
   ]
  },
  {
   "cell_type": "code",
   "execution_count": 59,
   "metadata": {},
   "outputs": [
    {
     "data": {
      "image/png": "[encoded data removed]",
      "text/plain": [
       "<Figure size 1080x720 with 1 Axes>"
      ]
     },
     "metadata": {},
     "output_type": "display_data"
    }
   ],
   "source": [
    "labels = 'LMBR', 'EAF', 'NG-feedstock'\n",
    "sizes = [H_per_ton_steel*1000,el_eaf,ng_energy_feedstock]\n",
    "explode = (0, 0, 0.1)  # only \"explode\" the 2nd slice (i.e. 'Hogs')\n",
    "\n",
    "fig1, ax1 = plt.subplots(figsize=(15,10))\n",
    "ax1.pie(sizes,labels=labels, autopct='%1.1f%%',explode=explode,\n",
    "        shadow=True, startangle=90,textprops={'fontsize': 18})\n",
    "ax1.axis('equal')  # Equal aspect ratio ensures that pie is drawn as a circle.\n",
    "plt.savefig('SEC_methane_pyrolysis.pdf',dpi=1200)\n",
    "\n"
   ]
  },
  {
   "cell_type": "code",
   "execution_count": 60,
   "metadata": {},
   "outputs": [
    {
     "data": {
      "text/plain": [
       "286.0765380186353"
      ]
     },
     "execution_count": 60,
     "metadata": {},
     "output_type": "execute_result"
    }
   ],
   "source": [
    "total_ng_req_tls"
   ]
  },
  {
   "cell_type": "code",
   "execution_count": 61,
   "metadata": {},
   "outputs": [
    {
     "data": {
      "text/plain": [
       "0.8421227516383811"
      ]
     },
     "execution_count": 61,
     "metadata": {},
     "output_type": "execute_result"
    }
   ],
   "source": [
    "H_per_ton_steel"
   ]
  },
  {
   "cell_type": "code",
   "execution_count": 62,
   "metadata": {},
   "outputs": [
    {
     "data": {
      "text/plain": [
       "3814.35384024847"
      ]
     },
     "execution_count": 62,
     "metadata": {},
     "output_type": "execute_result"
    }
   ],
   "source": [
    "ng_energy_feedstock"
   ]
  },
  {
   "cell_type": "code",
   "execution_count": 63,
   "metadata": {},
   "outputs": [
    {
     "name": "stdout",
     "output_type": "stream",
     "text": [
      "5184.5804357016195\n"
     ]
    },
    {
     "data": {
      "text/plain": [
       "1.3702265954531492"
      ]
     },
     "execution_count": 63,
     "metadata": {},
     "output_type": "execute_result"
    }
   ],
   "source": [
    "print(E_total_MWh*1000+ng_energy_feedstock)\n",
    "E_total_MWh"
   ]
  },
  {
   "cell_type": "markdown",
   "metadata": {},
   "source": [
    "## Emission calculations \n",
    "Institute for Global Environmental Strategies (2020). List of Grid Emission Factors, version 10.8. Available at: https://pub.iges.or.jp/pub/iges-list-grid-emission-factors\n",
    "All copyrights are reserved. The source must be clearly stated when this database is reproduced or transmitted in any form or by any means.\n",
    "\n",
    "Value for Germany taken from : https://www.carbonfootprint.com/docs/2018_8_electricity_factors_august_2018_-_online_sources.pdf"
   ]
  },
  {
   "cell_type": "code",
   "execution_count": 64,
   "metadata": {},
   "outputs": [
    {
     "data": {
      "text/plain": [
       "0.9014143433788282"
      ]
     },
     "execution_count": 64,
     "metadata": {},
     "output_type": "execute_result"
    }
   ],
   "source": [
    "\n",
    "\n",
    "\n",
    "\n",
    "## CO2 emission\n",
    " \n",
    "#For this investigation,\n",
    "#CO2 emissions for the natural gas supply chain are assumed to sum\n",
    "#up to 17.2 gCO2/MJ1 considering emissions for natural gas production,\n",
    "#long distance transport and distribution in a high pressure system\n",
    "\n",
    "# Emissions from hydrogen production\n",
    "# can be divided into direct and indirect emissions \n",
    "reac_ems_dr=(total_ng_req_tls*ng_up_em_kg)/1000 # upstream emissions are considered\n",
    "reac_ems_indr=H_per_ton_steel*emission_factor #emission factor in tco2/MWh\n",
    "\n",
    "    \n",
    "EAF_co2=0.050 #ton/tls from exhaust gases \n",
    "cao_emissions=0.056 #tco2/tls calcination of caco3\n",
    "co2_eaf_electrode=0.0070 #tco2/tls use of electrodes\n",
    "pellet_production=0.12#tco2/tls # upstream emissions from pellet production\n",
    "\n",
    "hdri_eaf_ems_dr=(EAF_co2+cao_emissions+co2_eaf_electrode+pellet_production)#tco2/tls\n",
    "hdri_eaf_ems_indr =(EL_total_MWh*emission_factor) #tco2/tls\n",
    "\n",
    "\n",
    "total_emission=(reac_ems_dr+reac_ems_indr+hdri_eaf_ems_dr+hdri_eaf_ems_indr)\n",
    "\n",
    "total_emission_cost=((hdri_eaf_ems_dr+reac_ems_dr)*emission_cost*steel_prod_yr)/10**6 # in Million USD\n",
    "\n",
    "total_emission"
   ]
  },
  {
   "cell_type": "code",
   "execution_count": 65,
   "metadata": {},
   "outputs": [],
   "source": [
    "emission_types=['Reactor-direct','Reactor indirect','HDRI-EAF direct','HDRI-EAF indirect','System-total']\n",
    "emissions=[reac_ems_dr,reac_ems_indr,hdri_eaf_ems_dr,hdri_eaf_ems_indr,total_emission]\n",
    "#plt.bar(emission_types,emissions)\n",
    "#df=pd.DataFrame({\"Emission\": emissions},index=emission_types)\n",
    "#df.plot(kind=\"bar\",stacked=True)"
   ]
  },
  {
   "cell_type": "code",
   "execution_count": null,
   "metadata": {},
   "outputs": [],
   "source": []
  },
  {
   "cell_type": "code",
   "execution_count": 66,
   "metadata": {},
   "outputs": [
    {
     "data": {
      "text/plain": [
       "[0.10251075945667765,\n",
       " 0.013473964026214098,\n",
       " 0.233,\n",
       " 0.008449661501036288,\n",
       " 0.35743438498392804]"
      ]
     },
     "execution_count": 66,
     "metadata": {},
     "output_type": "execute_result"
    }
   ],
   "source": [
    "def emission_system(emission_factor):# Emissions from hydrogen production\n",
    "# can be divided into direct and indirect emissions \n",
    "    reac_ems_dr=(total_ng_req_tls*ng_up_em_kg)/1000 # upstream emissions are considered\n",
    "    reac_ems_indr=H_per_ton_steel*emission_factor #emission factor in tco2/MWh\n",
    "\n",
    "\n",
    "    EAF_co2=0.050 #ton/tls from exhaust gases \n",
    "    cao_emissions=0.056 #tco2/tls calcination of caco3\n",
    "    co2_eaf_electrode=0.0070 #tco2/tls use of electrodes\n",
    "    pellet_production=0.12#tco2/tls # upstream emissions from pellet production\n",
    "\n",
    "    hdri_eaf_ems_dr=(EAF_co2+cao_emissions+co2_eaf_electrode+pellet_production)#tco2/tls\n",
    "    hdri_eaf_ems_indr =(EL_total_MWh*emission_factor) #tco2/tls\n",
    "\n",
    "\n",
    "    total_emission=(reac_ems_dr+reac_ems_indr+hdri_eaf_ems_dr+hdri_eaf_ems_indr)\n",
    "    emissions=[reac_ems_dr,reac_ems_indr,hdri_eaf_ems_dr,hdri_eaf_ems_indr,total_emission]\n",
    "    return(emissions)\n",
    "emission_system(0.016)"
   ]
  },
  {
   "cell_type": "code",
   "execution_count": 67,
   "metadata": {},
   "outputs": [
    {
     "data": {
      "text/plain": [
       "0.7104755175010363"
      ]
     },
     "execution_count": 67,
     "metadata": {},
     "output_type": "execute_result"
    }
   ],
   "source": [
    " #emission_factor=0.5 #kgCO2/KWh\n",
    "def energiron_emissions(emission_factor):\n",
    "    ng_upstream_emission=17.2 #gCo2/MJ\n",
    "    \n",
    "    co2_selective_dri=235 #kg/tls\n",
    "    co2_non_selective=306 #kg/tls\n",
    "    natural_gas=2.22 # gcal/tls\n",
    "    ng_cal=48000 #kj/kg\n",
    "    natural_gas_kg=(2.22*10**6*4.184)/ng_cal #conver gcal to Kj \n",
    "    ng_emission_tls=(natural_gas_kg*ng_cal*ng_upstream_emission)/10**6 #convert KJ to MJ #kgco2/tls\n",
    "    el_dri=79 # KWh/tls\n",
    "    total_el=(el_dri+el_eaf)/1000 # MWh/tls\n",
    "    indirect_ems_energiron=total_el*emission_factor\n",
    "    direct_ems_energiron=(co2_non_selective+co2_selective_dri)/1000+ng_emission_tls/1000\n",
    "    total_emission= direct_ems_energiron+indirect_ems_energiron\n",
    "    return(total_emission)\n",
    "energiron_emissions(0.016)"
   ]
  },
  {
   "cell_type": "code",
   "execution_count": 68,
   "metadata": {},
   "outputs": [],
   "source": [
    "emf_countries=[0.386,0.413,0.574,0.016,0.025]\n",
    "#reference :https://www.sciencedirect.com/science/article/pii/S1361920916307933\n",
    "countries=['DK','EU28','DE','SE','NO']\n",
    "emission_countries=[]\n",
    "for i in range(len(emf_countries)):\n",
    "    emission_countries.append(emission_system(emf_countries[i]))\n"
   ]
  },
  {
   "cell_type": "code",
   "execution_count": 69,
   "metadata": {},
   "outputs": [],
   "source": [
    "total_emission_energiron=[]\n",
    "for i in range(len(emf_countries)):\n",
    "\n",
    "    total_emission_energiron.append(energiron_emissions(emf_countries[i]))\n",
    "    "
   ]
  },
  {
   "cell_type": "code",
   "execution_count": 70,
   "metadata": {},
   "outputs": [
    {
     "data": {
      "text/html": [
       "<div>\n",
       "<style scoped>\n",
       "    .dataframe tbody tr th:only-of-type {\n",
       "        vertical-align: middle;\n",
       "    }\n",
       "\n",
       "    .dataframe tbody tr th {\n",
       "        vertical-align: top;\n",
       "    }\n",
       "\n",
       "    .dataframe thead th {\n",
       "        text-align: right;\n",
       "    }\n",
       "</style>\n",
       "<table border=\"1\" class=\"dataframe\">\n",
       "  <thead>\n",
       "    <tr style=\"text-align: right;\">\n",
       "      <th></th>\n",
       "      <th>Reactor-direct</th>\n",
       "      <th>Reactor indirect</th>\n",
       "      <th>HDRI-EAF direct</th>\n",
       "      <th>HDRI-EAF indirect</th>\n",
       "      <th>System-total</th>\n",
       "      <th>NG-DRI_EAF</th>\n",
       "      <th>Countries</th>\n",
       "    </tr>\n",
       "  </thead>\n",
       "  <tbody>\n",
       "    <tr>\n",
       "      <th>0</th>\n",
       "      <td>0.102511</td>\n",
       "      <td>0.325059</td>\n",
       "      <td>0.233</td>\n",
       "      <td>0.203848</td>\n",
       "      <td>0.864418</td>\n",
       "      <td>0.935104</td>\n",
       "      <td>DK</td>\n",
       "    </tr>\n",
       "    <tr>\n",
       "      <th>1</th>\n",
       "      <td>0.102511</td>\n",
       "      <td>0.347797</td>\n",
       "      <td>0.233</td>\n",
       "      <td>0.218107</td>\n",
       "      <td>0.901414</td>\n",
       "      <td>0.951496</td>\n",
       "      <td>EU28</td>\n",
       "    </tr>\n",
       "    <tr>\n",
       "      <th>2</th>\n",
       "      <td>0.102511</td>\n",
       "      <td>0.483378</td>\n",
       "      <td>0.233</td>\n",
       "      <td>0.303132</td>\n",
       "      <td>1.122021</td>\n",
       "      <td>1.049239</td>\n",
       "      <td>DE</td>\n",
       "    </tr>\n",
       "    <tr>\n",
       "      <th>3</th>\n",
       "      <td>0.102511</td>\n",
       "      <td>0.013474</td>\n",
       "      <td>0.233</td>\n",
       "      <td>0.008450</td>\n",
       "      <td>0.357434</td>\n",
       "      <td>0.710476</td>\n",
       "      <td>SE</td>\n",
       "    </tr>\n",
       "    <tr>\n",
       "      <th>4</th>\n",
       "      <td>0.102511</td>\n",
       "      <td>0.021053</td>\n",
       "      <td>0.233</td>\n",
       "      <td>0.013203</td>\n",
       "      <td>0.369766</td>\n",
       "      <td>0.715939</td>\n",
       "      <td>NO</td>\n",
       "    </tr>\n",
       "  </tbody>\n",
       "</table>\n",
       "</div>"
      ],
      "text/plain": [
       "   Reactor-direct  Reactor indirect  HDRI-EAF direct  HDRI-EAF indirect  \\\n",
       "0        0.102511          0.325059            0.233           0.203848   \n",
       "1        0.102511          0.347797            0.233           0.218107   \n",
       "2        0.102511          0.483378            0.233           0.303132   \n",
       "3        0.102511          0.013474            0.233           0.008450   \n",
       "4        0.102511          0.021053            0.233           0.013203   \n",
       "\n",
       "   System-total  NG-DRI_EAF Countries  \n",
       "0      0.864418    0.935104        DK  \n",
       "1      0.901414    0.951496      EU28  \n",
       "2      1.122021    1.049239        DE  \n",
       "3      0.357434    0.710476        SE  \n",
       "4      0.369766    0.715939        NO  "
      ]
     },
     "execution_count": 70,
     "metadata": {},
     "output_type": "execute_result"
    }
   ],
   "source": [
    "#plotting a stacked bar chart to visuallize impact of different sources of emissions\n",
    "df = pd.DataFrame(emission_countries)\n",
    "df.columns = emission_types\n",
    "\n",
    "df['NG-DRI_EAF']=total_emission_energiron\n",
    "df['Countries']=countries\n",
    "df"
   ]
  },
  {
   "cell_type": "code",
   "execution_count": 71,
   "metadata": {},
   "outputs": [
    {
     "data": {
      "image/png": "[encoded data removed]",
      "text/plain": [
       "<Figure size 1080x720 with 1 Axes>"
      ]
     },
     "metadata": {
      "needs_background": "light"
     },
     "output_type": "display_data"
    }
   ],
   "source": [
    "df.plot.bar(x='Countries',y=['Reactor-direct',\n",
    "                             'Reactor indirect',\n",
    "                             'HDRI-EAF direct',\n",
    "                             'HDRI-EAF indirect'],stacked=True,figsize=(15,10),alpha=0.6)\n",
    "bf_bof_emission=[1.6,1.8]#tco2/tls\n",
    "\n",
    "plt.axhspan(bf_bof_emission[0],bf_bof_emission[1], color='grey', alpha=0.3,label='BF-BOF emission')\n",
    "#plt.axhspan(total_emission_energiron[3],total_emission_energiron[2],color='cyan', alpha=0.2,label='BF-BOF emission')\n",
    "plt.scatter(countries,total_emission_energiron,color='black',alpha=0.9,label='NG-DRI_EAF')\n",
    "plt.annotate('Emissions range of BF-BOF system', xy=(0.25, 0.90), xycoords='axes fraction')\n",
    "#plt.annotate('Emissions range of NG-DRI-EAF system', xy=(0.60, 0.45), xycoords='axes fraction')\n",
    "\n",
    "plt.ylabel('Emissions in tCO2/tls',fontsize=15)\n",
    "plt.xlabel('Countries',fontsize=15)\n",
    "plt.legend(loc='best')\n",
    "plt.savefig('emissions_methane_pyrolysis.pdf',dpi=1200,bbox_inches='tight')"
   ]
  },
  {
   "cell_type": "markdown",
   "metadata": {},
   "source": [
    "### Capital cost"
   ]
  },
  {
   "cell_type": "code",
   "execution_count": 72,
   "metadata": {},
   "outputs": [],
   "source": [
    "def total_capital_cost(lang_factor_reac,lang_factor_dri_eaf):\n",
    "#Cost of tin per kg \n",
    "### Capital cost of the metal\n",
    "#### Source : https://tradingeconomics.com/commodity/tin\n",
    "    cost_perkg=tinprice/1000 # Converted to Euros \n",
    "\n",
    "\n",
    "    tin_cost=weight_tin*cost_perkg\n",
    "    #Cost of tin in million Euros\n",
    "    million=10**6\n",
    "    tin_cost_million=tin_cost/million\n",
    "\n",
    "\n",
    "    #### Cost of the bubble column reactor\n",
    "\n",
    "    \"\"\"Considering that the reactor is made of 120 mm thick stainless steel. \n",
    "    The cost of stainless steel is assumed to be USD 2500 /ton. \n",
    "    The reactor is lined with refractory (magnesium oxide) layer of 600 mm \n",
    "    and the cost of refractory bricks is 800 USD/ton.\"\"\"\n",
    "\n",
    "\n",
    "\n",
    "    vol_steel_reactor=np.pi*((dia_reac+0.120/2)**2-(dia_reac/2)**2)*len_reac\n",
    "    vol_refractory=np.pi*((dia_reac/2+0.6)**2-(dia_reac/2)**2)*len_reac\n",
    "    weight_steel_reactor=(vol_steel_reactor*steel_density)/1000 # conversion to tons of steel\n",
    "    weight_refractory=(vol_refractory*refractory_density)/1000 # conversion to tons \n",
    "\n",
    "\n",
    "    reactor_cost=((weight_steel_reactor*ss_steel_cost)+\n",
    "                         (weight_refractory*refractory_cost)+(weight_steel_reactor*10000)+\n",
    "                         (weight_refractory*1000))/10**6+(tin_cost_million)\n",
    "    EAF_cost_per_ton_yr=140\n",
    "        # The value includes installation costs \n",
    "        #https://iea-etsap.org/E-TechDS/PDF/I02-Iron&Steel-GS-AD-gct.pdf\n",
    "    EAF_total_cost=(EAF_cost_per_ton_yr*steel_prod_yr)/10**6\n",
    "        #### DRI Cost \n",
    "        #Link : https://www2.deloitte.com/content/dam/Deloitte/global/Documents/Manufacturing/gx_remaking%20the%20global%20steel%20industry_06_13.pdf\n",
    "\n",
    "    DRI_cost_per_ton_yr=240 #USD/ton/per year\n",
    "    # Cost of new DRI plant with 2 MT/annum =5.5 million euros or 6 million USD\n",
    "     # A reduction in cost is considered as larger plants have smaller costs. (0.6)\n",
    "    # The plant costs include all the costs including ISBL, OSBL, area development etc \n",
    "    # no Lang factor multiplication is required for such a plant\n",
    "    #https://www.voestalpine.com/group/en/media/press-releases/2013-07-04-\n",
    "     #voestalpine-entrusts-construction-of-the-direct-reduction-plant-in-texas-to-siemens-and-midrex/\n",
    "    DRI_total_cost=(DRI_cost_per_ton_yr*steel_prod_yr)/10**6\n",
    "    #### Pressure swing adsorber \n",
    "\n",
    "    PSA_cost=25 # Million USD \n",
    "\n",
    "    El_heater=50 # Million USD for heating the tin \n",
    "    # additional elements like pumps etc are not explicitly stated but would be required. \n",
    "\n",
    "\n",
    "    #lang_factor_reac=10\n",
    "    #lang_factor_dri_eaf=6\n",
    "\n",
    "    total_capital_cost=((reactor_cost+PSA_cost+El_heater)*lang_factor_reac)+(EAF_total_cost+DRI_total_cost)*lang_factor_dri_eaf\n",
    "    #capital_cost={'EAF':EAF_total_cost,\n",
    "            #'HDRI':DRI_total_cost,'Reactor':reactor_cost\n",
    "            #,'PSA':PSA_cost,\n",
    "            #'Electrical heater':el_heater_cost,\n",
    "            #'Total capital cost':total_capital_cost}\n",
    "    #df_capital_cost=pd.DataFrame.from_dict(capital_cost)\n",
    "    return total_capital_cost\n"
   ]
  },
  {
   "cell_type": "code",
   "execution_count": 73,
   "metadata": {},
   "outputs": [
    {
     "data": {
      "text/plain": [
       "4966.651999430683"
      ]
     },
     "execution_count": 73,
     "metadata": {},
     "output_type": "execute_result"
    }
   ],
   "source": [
    "total_capital_cost(10,3)"
   ]
  },
  {
   "cell_type": "code",
   "execution_count": 74,
   "metadata": {},
   "outputs": [
    {
     "data": {
      "text/plain": [
       "3509"
      ]
     },
     "execution_count": 74,
     "metadata": {},
     "output_type": "execute_result"
    }
   ],
   "source": [
    "4966-1457\n"
   ]
  },
  {
   "cell_type": "code",
   "execution_count": 75,
   "metadata": {},
   "outputs": [],
   "source": [
    "cost_perkg=tinprice/1000 # Converted to Euros \n",
    "\n",
    "\n",
    "tin_cost=weight_tin*cost_perkg\n",
    "#Cost of tin in million Euros\n",
    "million=10**6\n",
    "tin_cost_million=tin_cost/million\n",
    "\n",
    "\n",
    "#### Cost of the bubble column reactor\n",
    "\n",
    "\"\"\"Considering that the reactor is made of 120 mm thick stainless steel. \n",
    "The cost of stainless steel is assumed to be USD 2500 /ton. \n",
    "The reactor is lined with refractory (magnesium oxide) layer of 600 mm \n",
    "and the cost of refractory bricks is 800 USD/ton.\"\"\"\n",
    "\n",
    "\n",
    "\n",
    "vol_steel_reactor=np.pi*((dia_reac+0.120/2)**2-(dia_reac/2)**2)*len_reac\n",
    "vol_refractory=np.pi*((dia_reac/2+0.6)**2-(dia_reac/2)**2)*len_reac\n",
    "weight_steel_reactor=(vol_steel_reactor*steel_density)/1000 # conversion to tons of steel\n",
    "weight_refractory=(vol_refractory*refractory_density)/1000 # conversion to tons \n",
    "\n",
    "\n",
    "reactor_cost=((weight_steel_reactor*ss_steel_cost)+\n",
    "                     (weight_refractory*refractory_cost)+(weight_steel_reactor*10000)+\n",
    "                     (weight_refractory*1000))/10**6+(tin_cost_million)"
   ]
  },
  {
   "cell_type": "code",
   "execution_count": 76,
   "metadata": {},
   "outputs": [
    {
     "data": {
      "text/plain": [
       "1457.6633691550717"
      ]
     },
     "execution_count": 76,
     "metadata": {},
     "output_type": "execute_result"
    }
   ],
   "source": [
    "(reactor_cost+50+25)*10"
   ]
  },
  {
   "cell_type": "code",
   "execution_count": 77,
   "metadata": {},
   "outputs": [],
   "source": [
    "def operational_cost(ng_price,electricity_cost,iron_ore_cost):    \n",
    "    eaf_op_cost_tls=32 #t/yr of dri\n",
    "    dri_op_cost_tls=13#t/yr of dri\n",
    "\n",
    "    ng_cost=(total_ng_req_tls/21)*ng_price\n",
    "    iron_ore_cost_tls=(m1)*iron_ore_cost\n",
    "    electricity_cost_tls=(electricity_cost*E_total_MWh)\n",
    "\n",
    "    operational_cost_annual=(((ng_cost+iron_ore_cost_tls+electricity_cost_tls+eaf_op_cost_tls+\n",
    "                               dri_op_cost_tls)*steel_prod_yr)/10**6)\n",
    "    system_costs={'Natural gas':ng_cost,'Iron ore':iron_ore_cost_tls,'Electricity_cost':electricity_cost_tls,\n",
    "                  'Total system costs':operational_cost_annual}\n",
    "    return operational_cost_annual\n"
   ]
  },
  {
   "cell_type": "code",
   "execution_count": null,
   "metadata": {},
   "outputs": [],
   "source": []
  },
  {
   "cell_type": "code",
   "execution_count": 78,
   "metadata": {},
   "outputs": [],
   "source": [
    "p=['naturalgas','iron ore','electricity_cost','total_op_cost']\n",
    "q=[89.63731524583906, 144.09504310092012,76.89711653683072,45,1094.6489332959675]"
   ]
  },
  {
   "cell_type": "code",
   "execution_count": 79,
   "metadata": {},
   "outputs": [
    {
     "data": {
      "text/plain": [
       "[0.25205254788057296,\n",
       " 0.40518307192644126,\n",
       " 0.2162281868284452,\n",
       " 0.1265361933645407,\n",
       " 3.0780602019961503]"
      ]
     },
     "execution_count": 79,
     "metadata": {},
     "output_type": "execute_result"
    }
   ],
   "source": [
    "r=[(x*steel_prod_yr)/10**6 for x in q ]\n",
    "\n",
    "s=[x/q[-1] for x in r]\n",
    "\n",
    "s"
   ]
  },
  {
   "cell_type": "code",
   "execution_count": 80,
   "metadata": {},
   "outputs": [],
   "source": [
    "#Maintenance cost\n",
    "maintenance_cost_percentage=0.02\n",
    "labour_cost_tls=20 #USD/tls/yr\n",
    "# 10% of the capital cost\n",
    "\n",
    "\n",
    "maintenance_cost_yr=(maintenance_cost_percentage*total_capital_cost(lf_reac,lf_dri))\n",
    "labour_cost_yr=(labour_cost_tls*steel_prod_yr)/10**6\n",
    " \n",
    "   "
   ]
  },
  {
   "cell_type": "code",
   "execution_count": 81,
   "metadata": {},
   "outputs": [],
   "source": [
    "# Depreciation cost\n",
    "\n",
    "depreciation_yr=total_capital_cost(lf_reac,lf_dri)/plant_life"
   ]
  },
  {
   "cell_type": "markdown",
   "metadata": {},
   "source": [
    "### Equivalent annual cost (EAC) of LS production"
   ]
  },
  {
   "cell_type": "code",
   "execution_count": 82,
   "metadata": {},
   "outputs": [],
   "source": [
    "## Base case \n",
    "def lcop(interest_rate):\n",
    "    ng_price=6.58\n",
    "    electricity_cost=56\n",
    "    iron_ore_cost=90\n",
    "    i=interest_rate\n",
    "    \n",
    "    f_an=(i*((1+i)**plant_life)/((1+i)**plant_life-1))\n",
    "    eac=[(total_capital_cost(lf_reac,lf_dri)*f_an)+operational_cost(ng_price,electricity_cost,iron_ore_cost)+maintenance_cost_yr+labour_cost_yr+total_emission_cost]\n",
    "    lcop=eac[0]/(steel_prod_yr/10**6)\n",
    "    return [lcop,(total_capital_cost(lf_reac,lf_dri)*f_an),\n",
    "            operational_cost(ng_price,electricity_cost,iron_ore_cost),\n",
    "            maintenance_cost_yr,\n",
    "            labour_cost_yr,\n",
    "            total_emission_cost]"
   ]
  },
  {
   "cell_type": "code",
   "execution_count": 83,
   "metadata": {},
   "outputs": [
    {
     "data": {
      "text/plain": [
       "[583.8244544482178,\n",
       " 505.8644765979323,\n",
       " 1094.142816501826,\n",
       " 99.33303998861366,\n",
       " 61.56120403992301,\n",
       " 36.1452810608786]"
      ]
     },
     "execution_count": 83,
     "metadata": {},
     "output_type": "execute_result"
    }
   ],
   "source": [
    "lcop(0.08)"
   ]
  },
  {
   "cell_type": "code",
   "execution_count": null,
   "metadata": {},
   "outputs": [],
   "source": []
  },
  {
   "cell_type": "markdown",
   "metadata": {},
   "source": [
    "## Revenue"
   ]
  },
  {
   "cell_type": "code",
   "execution_count": 84,
   "metadata": {},
   "outputs": [],
   "source": [
    "   # Revenue\n",
    "    # USD/ton\n",
    "\n",
    "\n",
    "revenue_steel=((carbon_steel_price*steel_prod_yr)/10**6)\n",
    "    #USD/ton\n",
    "    \n",
    "\n",
    "    # Revenue generated in Million USD /year \n",
    "\n",
    "revenue_carbon=(carbon_price*carbon_per_year*carbon_sold)/10**9\n",
    "\n",
    "\n",
    "total_revenue_usd_million=revenue_steel+revenue_carbon"
   ]
  },
  {
   "cell_type": "code",
   "execution_count": 85,
   "metadata": {},
   "outputs": [],
   "source": [
    "import numpy_financial as npf #for calculating the NPV and IRR \n"
   ]
  },
  {
   "cell_type": "code",
   "execution_count": 86,
   "metadata": {},
   "outputs": [],
   "source": [
    "def pyrolysis_npv(tax_rate,interest_rate,electricity_cost,\n",
    "                 iron_ore_cost,emission_cost,carbon_steel_price,carbon_price,ng_price):\n",
    "    lf_rkt=10\n",
    "    lf_dri_eaf=2\n",
    "    carbon_sold=0.6\n",
    "    emission_factor=0.413\n",
    "    steel_prod_yr=3078060\n",
    "    #reactor cost calculation\n",
    "    #plant_life=25\n",
    "    #interest_rate=0.10\n",
    "    #tax_rate=0.35\n",
    "    ## Emission calculations \n",
    "    \"\"\"Institute for Global Environmental Strategies (2020). List of Grid Emission Factors, version 10.8. Available at: https://pub.iges.or.jp/pub/iges-list-grid-emission-factors\n",
    "    All copyrights are reserved. The source must be clearly stated when this database is reproduced or transmitted in any form or by any means.\n",
    "\n",
    "    Value for Germany taken from : https://www.carbonfootprint.com/docs/2018_8_electricity_factors_august_2018_-_online_sources.pdf\"\"\"\n",
    "\n",
    "\n",
    "\n",
    "  \n",
    "\n",
    "\n",
    "\n",
    "\n",
    "    #For this investigation,\n",
    "    #CO2 emissions for the natural gas supply chain are assumed to sum\n",
    "    #up to 17.2 gCO2/MJ1 considering emissions for natural gas production,\n",
    "    #long distance transport and distribution in a high pressure system\n",
    "\n",
    "    # Emissions from hydrogen production\n",
    "    # can be divided into direct and indirect emissions \n",
    "    reac_ems_dr=(total_ng_req_tls*ng_up_em_kg)/1000 # upstream emissions are considered\n",
    "    reac_ems_indr=H_per_ton_steel*emission_factor #emission factor in tco2/MWh\n",
    "\n",
    "\n",
    "    EAF_co2=0.050 #ton/tls from exhaust gases \n",
    "    cao_emissions=0.056 #tco2/tls calcination of caco3\n",
    "    co2_eaf_electrode=0.0070 #tco2/tls use of electrodes\n",
    "    pellet_production=0.12#tco2/tls # upstream emissions from pellet production\n",
    "\n",
    "    hdri_eaf_ems_dr=(EAF_co2+cao_emissions+co2_eaf_electrode+pellet_production)#tco2/tls\n",
    "    hdri_eaf_ems_indr =(EL_total_MWh*emission_factor) #tco2/tls\n",
    "\n",
    "\n",
    "    total_emission=(reac_ems_dr+reac_ems_indr+hdri_eaf_ems_dr+hdri_eaf_ems_indr)\n",
    "\n",
    "     #Emission cost\n",
    "     # The emissions costs are associated with direct emissions within the system boundar and not with\n",
    "    #the indirect emissions from the use of electricity.  \n",
    "    total_emission_cost=((hdri_eaf_ems_dr+reac_ems_dr)*emission_cost*steel_prod_yr)/10**6 # in Million USD\n",
    "\n",
    "\n",
    "    \n",
    "  \n",
    "\n",
    "\n",
    "\n",
    "    #total_capital_cost=total_capital_cost(lf_rkt,lf_dri_eaf) \n",
    "\n",
    "    #operational_cost_annual=operational_cost(ng_price,electricity_cost)\n",
    "\n",
    "   \n",
    "\n",
    "    maintenance_cost_yr=(maintenance_cost_percentage*total_capital_cost(lf_rkt,lf_dri_eaf))\n",
    "    labour_cost_yr=(labour_cost_tls*steel_prod_yr)/10**6\n",
    "\n",
    "\n",
    "\n",
    "    \n",
    "\n",
    "    # Depreciation cost\n",
    "\n",
    "    depreciation_yr=total_capital_cost(lf_rkt,lf_dri_eaf)/plant_life\n",
    "\n",
    "    ## Revenue\n",
    "\n",
    "       # Revenue\n",
    "        # USD/ton\n",
    "\n",
    "\n",
    "    revenue_steel=((carbon_steel_price*steel_prod_yr)/10**6)\n",
    "        #USD/ton\n",
    "\n",
    "\n",
    "        # Revenue generated in Million USD /year \n",
    "\n",
    "    revenue_carbon=(carbon_price*carbon_per_year*carbon_sold)/10**9\n",
    "\n",
    "\n",
    "    total_revenue_usd_million=revenue_steel+revenue_carbon\n",
    "\n",
    "\n",
    "    years=np.arange(0,plant_life,1)\n",
    "    Years=np.round(years,0)\n",
    "    production_steel=np.repeat(steel_prod_yr/10**6,plant_life).tolist()\n",
    "    #production_hydrogen=np.repeat(h2_prod_yr/1000000,plant_life).tolist()\n",
    "    \n",
    "    \n",
    "       \n",
    "        \n",
    "       \n",
    "  \n",
    "    capital_cost_yr=np.repeat(0,plant_life).tolist()\n",
    "    capital_cost_yr[0]=(total_capital_cost(lf_rkt,lf_dri_eaf)/3)\n",
    "    capital_cost_yr[1]=(total_capital_cost(lf_rkt,lf_dri_eaf))*(2/3)\n",
    "    operational_cost_yr=np.repeat(operational_cost(ng_price,electricity_cost,iron_ore_cost),plant_life).tolist()\n",
    "    maintenance_cost=np.repeat(maintenance_cost_yr,plant_life).tolist()\n",
    "    labour_cost=np.repeat(labour_cost_yr,plant_life).tolist()\n",
    "    emission_cost=np.repeat(total_emission_cost,plant_life).tolist()\n",
    "    depreciation_cost=np.repeat(depreciation_yr,plant_life).tolist()\n",
    "    total_revenue=np.repeat(total_revenue_usd_million,plant_life).tolist()\n",
    "\n",
    "    for i in range(2):\n",
    "        production_steel[i]=0\n",
    "        operational_cost_yr[i]=0\n",
    "        labour_cost[i]=0\n",
    "        maintenance_cost[i]=0\n",
    "        emission_cost[i]=0 \n",
    "        depreciation_cost[i]=0\n",
    "        total_revenue[i]=0\n",
    "    # tax calculation\n",
    "   \n",
    "    tax_cost=[(total_revenue[i]-(capital_cost_yr[i]+operational_cost_yr[i]+labour_cost[i]\n",
    "                                           +maintenance_cost[i]+\n",
    "                                 emission_cost[i]+\n",
    "                                 depreciation_cost[i]))*tax_rate for i in range(plant_life)]\n",
    "    tax_cost[0]=0\n",
    "    tax_cost[1]=0\n",
    "   \n",
    "    cash_flow=[total_revenue[i]-(capital_cost_yr[i]+\n",
    "                                           operational_cost_yr[i]+labour_cost[i]\n",
    "                                           +maintenance_cost[i]\n",
    "                                 +emission_cost[i]+tax_cost[i])for i in range(plant_life)]\n",
    "    npv=npf.npv(interest_rate,cash_flow)\n",
    "    irr=npf.irr(cash_flow)\n",
    "    #return(NPV_methane_pyrolysis,IRR_system)\n",
    "    #financial_parameters=npv\n",
    "    return [npv,irr,cash_flow]\n",
    "    \n",
    "    \n"
   ]
  },
  {
   "cell_type": "code",
   "execution_count": 87,
   "metadata": {},
   "outputs": [
    {
     "data": {
      "text/plain": [
       "0.15015822964789272"
      ]
     },
     "execution_count": 87,
     "metadata": {},
     "output_type": "execute_result"
    }
   ],
   "source": [
    "plant_life=20\n",
    "\n",
    "ng_price=6.58 #USD/MMBTU\n",
    "iron_ore_cost=90 #usd/ton\n",
    "electricity_cost=56 #USD/MWh # Germany\n",
    "emission_cost=35 # USD 35 per ton \n",
    "carbon_steel_price=650 #USD/ton\n",
    "tax_rate=0.25\n",
    "interest_rate=0.08\n",
    "emission_factor=0.413# corresponsding to german emission factor\n",
    "carbon_price=200\n",
    "# Assume that 60% of the carbon produced could be sold\n",
    "carbon_sold=0.6\n",
    "baseline=[tax_rate,interest_rate,electricity_cost,\n",
    "                 iron_ore_cost,emission_cost,carbon_steel_price,carbon_price,ng_price]\n",
    "baseline_npv=pyrolysis_npv(*baseline)[0]\n",
    "baseline_irr=pyrolysis_npv(*baseline)[1]\n",
    "baseline_irr"
   ]
  },
  {
   "cell_type": "code",
   "execution_count": 175,
   "metadata": {},
   "outputs": [],
   "source": [
    "\n",
    "from SALib.sample import saltelli\n",
    "from SALib.analyze import sobol\n",
    "\n",
    "\n",
    "\n",
    "problem = {\n",
    "  'num_vars': 8,\n",
    "  'names': ['tax_rate', \n",
    "'interest_rate',\n",
    "'electricity_cost',\n",
    "'iron_ore_cost',\n",
    "'emission_cost',\n",
    "'carbon_steel_price',\n",
    "'carbon_price',\n",
    "'ng_price'],\n",
    "  'bounds': [\n",
    "[0.25,0.35],      \n",
    "[0.06,0.12],\n",
    "[20,60],\n",
    "[75,95],\n",
    "[40,200],\n",
    "[600,700],\n",
    "[100,300],\n",
    "[4,7]]\n",
    "}\n",
    "\n",
    "# Generate samples\n",
    "param_values = saltelli.sample(problem,1000)\n"
   ]
  },
  {
   "cell_type": "code",
   "execution_count": 176,
   "metadata": {},
   "outputs": [],
   "source": [
    "\n",
    "Y=np.array([pyrolysis_npv(*param_values[i][:])[0] for i in range(len(param_values))])\n",
    "\n"
   ]
  },
  {
   "cell_type": "code",
   "execution_count": 177,
   "metadata": {},
   "outputs": [],
   "source": [
    "# Perform analysis\n",
    "Si = sobol.analyze(problem, Y)\n",
    "#print_to_console=True\n",
    "# Returns a dictionary with keys 'S1', 'S1_conf', 'ST', and 'ST_conf'\n",
    "# (first and total-order indices with bootstrap confidence intervals"
   ]
  },
  {
   "cell_type": "code",
   "execution_count": 178,
   "metadata": {},
   "outputs": [],
   "source": [
    "s2=Si['S2']\n",
    "S2_conf=Si['S2_conf']"
   ]
  },
  {
   "cell_type": "code",
   "execution_count": 179,
   "metadata": {},
   "outputs": [],
   "source": [
    "sensitivity_results=Si\n",
    "del sensitivity_results['S2_conf']\n",
    "del sensitivity_results['S2']"
   ]
  },
  {
   "cell_type": "code",
   "execution_count": 180,
   "metadata": {},
   "outputs": [],
   "source": [
    "df_results=pd.DataFrame.from_dict(sensitivity_results)"
   ]
  },
  {
   "cell_type": "code",
   "execution_count": 181,
   "metadata": {},
   "outputs": [
    {
     "data": {
      "text/html": [
       "<div>\n",
       "<style scoped>\n",
       "    .dataframe tbody tr th:only-of-type {\n",
       "        vertical-align: middle;\n",
       "    }\n",
       "\n",
       "    .dataframe tbody tr th {\n",
       "        vertical-align: top;\n",
       "    }\n",
       "\n",
       "    .dataframe thead th {\n",
       "        text-align: right;\n",
       "    }\n",
       "</style>\n",
       "<table border=\"1\" class=\"dataframe\">\n",
       "  <thead>\n",
       "    <tr style=\"text-align: right;\">\n",
       "      <th></th>\n",
       "      <th>S1</th>\n",
       "      <th>S1_conf</th>\n",
       "      <th>ST</th>\n",
       "      <th>ST_conf</th>\n",
       "      <th>Parameters</th>\n",
       "    </tr>\n",
       "  </thead>\n",
       "  <tbody>\n",
       "    <tr>\n",
       "      <th>0</th>\n",
       "      <td>0.023505</td>\n",
       "      <td>0.014396</td>\n",
       "      <td>0.026177</td>\n",
       "      <td>0.003023</td>\n",
       "      <td>Tax_rate</td>\n",
       "    </tr>\n",
       "    <tr>\n",
       "      <th>1</th>\n",
       "      <td>0.455967</td>\n",
       "      <td>0.051193</td>\n",
       "      <td>0.462028</td>\n",
       "      <td>0.040241</td>\n",
       "      <td>Interest rate</td>\n",
       "    </tr>\n",
       "    <tr>\n",
       "      <th>2</th>\n",
       "      <td>0.083624</td>\n",
       "      <td>0.024407</td>\n",
       "      <td>0.080392</td>\n",
       "      <td>0.007189</td>\n",
       "      <td>Electricity cost</td>\n",
       "    </tr>\n",
       "    <tr>\n",
       "      <th>3</th>\n",
       "      <td>0.027205</td>\n",
       "      <td>0.016990</td>\n",
       "      <td>0.027387</td>\n",
       "      <td>0.002549</td>\n",
       "      <td>Iron ore cost</td>\n",
       "    </tr>\n",
       "    <tr>\n",
       "      <th>4</th>\n",
       "      <td>0.075122</td>\n",
       "      <td>0.022737</td>\n",
       "      <td>0.077242</td>\n",
       "      <td>0.007100</td>\n",
       "      <td>Emission cost</td>\n",
       "    </tr>\n",
       "    <tr>\n",
       "      <th>5</th>\n",
       "      <td>0.261478</td>\n",
       "      <td>0.041798</td>\n",
       "      <td>0.266395</td>\n",
       "      <td>0.024135</td>\n",
       "      <td>Carbon steel price</td>\n",
       "    </tr>\n",
       "    <tr>\n",
       "      <th>6</th>\n",
       "      <td>0.014706</td>\n",
       "      <td>0.010231</td>\n",
       "      <td>0.014598</td>\n",
       "      <td>0.001364</td>\n",
       "      <td>Carbon price</td>\n",
       "    </tr>\n",
       "    <tr>\n",
       "      <th>7</th>\n",
       "      <td>0.043304</td>\n",
       "      <td>0.018813</td>\n",
       "      <td>0.045286</td>\n",
       "      <td>0.004443</td>\n",
       "      <td>NG price</td>\n",
       "    </tr>\n",
       "  </tbody>\n",
       "</table>\n",
       "</div>"
      ],
      "text/plain": [
       "         S1   S1_conf        ST   ST_conf          Parameters\n",
       "0  0.023505  0.014396  0.026177  0.003023            Tax_rate\n",
       "1  0.455967  0.051193  0.462028  0.040241       Interest rate\n",
       "2  0.083624  0.024407  0.080392  0.007189    Electricity cost\n",
       "3  0.027205  0.016990  0.027387  0.002549       Iron ore cost\n",
       "4  0.075122  0.022737  0.077242  0.007100       Emission cost\n",
       "5  0.261478  0.041798  0.266395  0.024135  Carbon steel price\n",
       "6  0.014706  0.010231  0.014598  0.001364        Carbon price\n",
       "7  0.043304  0.018813  0.045286  0.004443            NG price"
      ]
     },
     "execution_count": 181,
     "metadata": {},
     "output_type": "execute_result"
    }
   ],
   "source": [
    "df_results['Parameters']=['Tax_rate', 'Interest rate', 'Electricity cost','Iron ore cost',\n",
    "            'Emission cost','Carbon steel price','Carbon price',\n",
    "                          'NG price']\n",
    "df_results"
   ]
  },
  {
   "cell_type": "code",
   "execution_count": 182,
   "metadata": {},
   "outputs": [
    {
     "data": {
      "text/plain": [
       "<matplotlib.legend.Legend at 0x7fbf6c8df790>"
      ]
     },
     "execution_count": 182,
     "metadata": {},
     "output_type": "execute_result"
    },
    {
     "data": {
      "image/png": "[encoded data removed]",
      "text/plain": [
       "<Figure size 1080x720 with 1 Axes>"
      ]
     },
     "metadata": {
      "needs_background": "light"
     },
     "output_type": "display_data"
    }
   ],
   "source": [
    "#df_results.plot.bar(x='Parameters',y=['S1', 'ST'],figsize=(15,15))\n",
    "fig=plt.subplots(figsize=(15,10))\n",
    "Labels=df_results['Parameters']\n",
    "y_pos=np.arange(len(Labels))\n",
    "#y_pos=df_results_irr['Parameters']\n",
    "plt.bar(y_pos + 0,df_results['S1'],width=0.2,color='blue',label='First order sobol indices',alpha=1)\n",
    "plt.bar(y_pos + 0.2,df_results['ST'],width=0.2,color='black',label='Total order indices',alpha=1)\n",
    "plt.xticks(y_pos, Labels,rotation='vertical')\n",
    "plt.ylabel('Sensitivity Indices')\n",
    "plt.xlabel('Model input parameters')\n",
    "plt.legend(loc='best')"
   ]
  },
  {
   "cell_type": "code",
   "execution_count": 183,
   "metadata": {},
   "outputs": [
    {
     "data": {
      "text/html": [
       "<div>\n",
       "<style scoped>\n",
       "    .dataframe tbody tr th:only-of-type {\n",
       "        vertical-align: middle;\n",
       "    }\n",
       "\n",
       "    .dataframe tbody tr th {\n",
       "        vertical-align: top;\n",
       "    }\n",
       "\n",
       "    .dataframe thead th {\n",
       "        text-align: right;\n",
       "    }\n",
       "</style>\n",
       "<table border=\"1\" class=\"dataframe\">\n",
       "  <thead>\n",
       "    <tr style=\"text-align: right;\">\n",
       "      <th></th>\n",
       "      <th>Tax_rate</th>\n",
       "      <th>Interest rate</th>\n",
       "      <th>Electricity cost</th>\n",
       "      <th>Iron ore cost</th>\n",
       "      <th>Emission cost</th>\n",
       "      <th>Carbon steel price</th>\n",
       "      <th>Carbon price</th>\n",
       "      <th>NG price</th>\n",
       "      <th>Parameters</th>\n",
       "    </tr>\n",
       "  </thead>\n",
       "  <tbody>\n",
       "    <tr>\n",
       "      <th>0</th>\n",
       "      <td>NaN</td>\n",
       "      <td>0.002621</td>\n",
       "      <td>0.001775</td>\n",
       "      <td>0.001393</td>\n",
       "      <td>0.000841</td>\n",
       "      <td>0.000390</td>\n",
       "      <td>0.000710</td>\n",
       "      <td>0.001347</td>\n",
       "      <td>Tax_rate</td>\n",
       "    </tr>\n",
       "    <tr>\n",
       "      <th>1</th>\n",
       "      <td>NaN</td>\n",
       "      <td>NaN</td>\n",
       "      <td>-0.004216</td>\n",
       "      <td>-0.002647</td>\n",
       "      <td>-0.001036</td>\n",
       "      <td>0.000313</td>\n",
       "      <td>-0.005925</td>\n",
       "      <td>-0.001006</td>\n",
       "      <td>Interest rate</td>\n",
       "    </tr>\n",
       "    <tr>\n",
       "      <th>2</th>\n",
       "      <td>NaN</td>\n",
       "      <td>NaN</td>\n",
       "      <td>NaN</td>\n",
       "      <td>-0.006019</td>\n",
       "      <td>-0.006326</td>\n",
       "      <td>-0.005185</td>\n",
       "      <td>-0.006991</td>\n",
       "      <td>-0.007142</td>\n",
       "      <td>Electricity cost</td>\n",
       "    </tr>\n",
       "    <tr>\n",
       "      <th>3</th>\n",
       "      <td>NaN</td>\n",
       "      <td>NaN</td>\n",
       "      <td>NaN</td>\n",
       "      <td>NaN</td>\n",
       "      <td>-0.001855</td>\n",
       "      <td>-0.002377</td>\n",
       "      <td>-0.002707</td>\n",
       "      <td>-0.003161</td>\n",
       "      <td>Iron ore cost</td>\n",
       "    </tr>\n",
       "    <tr>\n",
       "      <th>4</th>\n",
       "      <td>NaN</td>\n",
       "      <td>NaN</td>\n",
       "      <td>NaN</td>\n",
       "      <td>NaN</td>\n",
       "      <td>NaN</td>\n",
       "      <td>0.000413</td>\n",
       "      <td>0.000516</td>\n",
       "      <td>0.001832</td>\n",
       "      <td>Emission cost</td>\n",
       "    </tr>\n",
       "    <tr>\n",
       "      <th>5</th>\n",
       "      <td>NaN</td>\n",
       "      <td>NaN</td>\n",
       "      <td>NaN</td>\n",
       "      <td>NaN</td>\n",
       "      <td>NaN</td>\n",
       "      <td>NaN</td>\n",
       "      <td>0.000888</td>\n",
       "      <td>0.001623</td>\n",
       "      <td>Carbon steel price</td>\n",
       "    </tr>\n",
       "    <tr>\n",
       "      <th>6</th>\n",
       "      <td>NaN</td>\n",
       "      <td>NaN</td>\n",
       "      <td>NaN</td>\n",
       "      <td>NaN</td>\n",
       "      <td>NaN</td>\n",
       "      <td>NaN</td>\n",
       "      <td>NaN</td>\n",
       "      <td>0.004006</td>\n",
       "      <td>Carbon price</td>\n",
       "    </tr>\n",
       "    <tr>\n",
       "      <th>7</th>\n",
       "      <td>NaN</td>\n",
       "      <td>NaN</td>\n",
       "      <td>NaN</td>\n",
       "      <td>NaN</td>\n",
       "      <td>NaN</td>\n",
       "      <td>NaN</td>\n",
       "      <td>NaN</td>\n",
       "      <td>NaN</td>\n",
       "      <td>NG price</td>\n",
       "    </tr>\n",
       "  </tbody>\n",
       "</table>\n",
       "</div>"
      ],
      "text/plain": [
       "   Tax_rate  Interest rate  Electricity cost  Iron ore cost  Emission cost  \\\n",
       "0       NaN       0.002621          0.001775       0.001393       0.000841   \n",
       "1       NaN            NaN         -0.004216      -0.002647      -0.001036   \n",
       "2       NaN            NaN               NaN      -0.006019      -0.006326   \n",
       "3       NaN            NaN               NaN            NaN      -0.001855   \n",
       "4       NaN            NaN               NaN            NaN            NaN   \n",
       "5       NaN            NaN               NaN            NaN            NaN   \n",
       "6       NaN            NaN               NaN            NaN            NaN   \n",
       "7       NaN            NaN               NaN            NaN            NaN   \n",
       "\n",
       "   Carbon steel price  Carbon price  NG price          Parameters  \n",
       "0            0.000390      0.000710  0.001347            Tax_rate  \n",
       "1            0.000313     -0.005925 -0.001006       Interest rate  \n",
       "2           -0.005185     -0.006991 -0.007142    Electricity cost  \n",
       "3           -0.002377     -0.002707 -0.003161       Iron ore cost  \n",
       "4            0.000413      0.000516  0.001832       Emission cost  \n",
       "5                 NaN      0.000888  0.001623  Carbon steel price  \n",
       "6                 NaN           NaN  0.004006        Carbon price  \n",
       "7                 NaN           NaN       NaN            NG price  "
      ]
     },
     "execution_count": 183,
     "metadata": {},
     "output_type": "execute_result"
    }
   ],
   "source": [
    "df_second_sobol=pd.DataFrame(s2)\n",
    "df_second_sobol['Parameters']=['Tax_rate', 'Interest rate', 'Electricity cost','Iron ore cost',\n",
    "            'Emission cost','Carbon steel price','Carbon price',\n",
    "                          'NG price']\n",
    "df_second_sobol.columns=['Tax_rate', 'Interest rate', 'Electricity cost','Iron ore cost',\n",
    "            'Emission cost','Carbon steel price','Carbon price',\n",
    "                          'NG price','Parameters']\n",
    "\n",
    "df_second_sobol"
   ]
  },
  {
   "cell_type": "code",
   "execution_count": 184,
   "metadata": {},
   "outputs": [],
   "source": [
    "Z=np.array([pyrolysis_npv(*param_values[i][:])[1] for i in range(len(param_values))])"
   ]
  },
  {
   "cell_type": "code",
   "execution_count": 185,
   "metadata": {},
   "outputs": [],
   "source": [
    "# Perform analysis\n",
    "irr = sobol.analyze(problem, Z)\n",
    "#print_to_console=True\n",
    "# Returns a dictionary with keys 'S1', 'S1_conf', 'ST', and 'ST_conf'\n",
    "# (first and total-order indices with bootstrap confidence intervals"
   ]
  },
  {
   "cell_type": "code",
   "execution_count": 186,
   "metadata": {},
   "outputs": [],
   "source": [
    "s2=irr['S2']\n",
    "S2_conf=irr['S2_conf']"
   ]
  },
  {
   "cell_type": "code",
   "execution_count": 187,
   "metadata": {},
   "outputs": [],
   "source": [
    "irr_sensitivity_results=irr\n",
    "del irr_sensitivity_results['S2_conf']\n",
    "del irr_sensitivity_results['S2']"
   ]
  },
  {
   "cell_type": "code",
   "execution_count": 188,
   "metadata": {},
   "outputs": [],
   "source": [
    "df_results_irr=pd.DataFrame.from_dict(irr_sensitivity_results)"
   ]
  },
  {
   "cell_type": "code",
   "execution_count": 189,
   "metadata": {},
   "outputs": [
    {
     "data": {
      "text/html": [
       "<div>\n",
       "<style scoped>\n",
       "    .dataframe tbody tr th:only-of-type {\n",
       "        vertical-align: middle;\n",
       "    }\n",
       "\n",
       "    .dataframe tbody tr th {\n",
       "        vertical-align: top;\n",
       "    }\n",
       "\n",
       "    .dataframe thead th {\n",
       "        text-align: right;\n",
       "    }\n",
       "</style>\n",
       "<table border=\"1\" class=\"dataframe\">\n",
       "  <thead>\n",
       "    <tr style=\"text-align: right;\">\n",
       "      <th></th>\n",
       "      <th>S1</th>\n",
       "      <th>S1_conf</th>\n",
       "      <th>ST</th>\n",
       "      <th>ST_conf</th>\n",
       "      <th>Parameters</th>\n",
       "    </tr>\n",
       "  </thead>\n",
       "  <tbody>\n",
       "    <tr>\n",
       "      <th>0</th>\n",
       "      <td>0.044664</td>\n",
       "      <td>0.019145</td>\n",
       "      <td>0.047155</td>\n",
       "      <td>0.004312</td>\n",
       "      <td>Tax_rate</td>\n",
       "    </tr>\n",
       "    <tr>\n",
       "      <th>1</th>\n",
       "      <td>0.000000</td>\n",
       "      <td>0.000000</td>\n",
       "      <td>0.000000</td>\n",
       "      <td>0.000000</td>\n",
       "      <td>Interest rate</td>\n",
       "    </tr>\n",
       "    <tr>\n",
       "      <th>2</th>\n",
       "      <td>0.151261</td>\n",
       "      <td>0.030206</td>\n",
       "      <td>0.149956</td>\n",
       "      <td>0.013272</td>\n",
       "      <td>Electricity cost</td>\n",
       "    </tr>\n",
       "    <tr>\n",
       "      <th>3</th>\n",
       "      <td>0.048901</td>\n",
       "      <td>0.020405</td>\n",
       "      <td>0.051065</td>\n",
       "      <td>0.004600</td>\n",
       "      <td>Iron ore cost</td>\n",
       "    </tr>\n",
       "    <tr>\n",
       "      <th>4</th>\n",
       "      <td>0.143329</td>\n",
       "      <td>0.033015</td>\n",
       "      <td>0.144302</td>\n",
       "      <td>0.010879</td>\n",
       "      <td>Emission cost</td>\n",
       "    </tr>\n",
       "    <tr>\n",
       "      <th>5</th>\n",
       "      <td>0.494442</td>\n",
       "      <td>0.057226</td>\n",
       "      <td>0.496941</td>\n",
       "      <td>0.042251</td>\n",
       "      <td>Carbon steel price</td>\n",
       "    </tr>\n",
       "    <tr>\n",
       "      <th>6</th>\n",
       "      <td>0.027165</td>\n",
       "      <td>0.012524</td>\n",
       "      <td>0.027326</td>\n",
       "      <td>0.002674</td>\n",
       "      <td>Carbon price</td>\n",
       "    </tr>\n",
       "    <tr>\n",
       "      <th>7</th>\n",
       "      <td>0.078536</td>\n",
       "      <td>0.023192</td>\n",
       "      <td>0.083598</td>\n",
       "      <td>0.007943</td>\n",
       "      <td>NG price</td>\n",
       "    </tr>\n",
       "  </tbody>\n",
       "</table>\n",
       "</div>"
      ],
      "text/plain": [
       "         S1   S1_conf        ST   ST_conf          Parameters\n",
       "0  0.044664  0.019145  0.047155  0.004312            Tax_rate\n",
       "1  0.000000  0.000000  0.000000  0.000000       Interest rate\n",
       "2  0.151261  0.030206  0.149956  0.013272    Electricity cost\n",
       "3  0.048901  0.020405  0.051065  0.004600       Iron ore cost\n",
       "4  0.143329  0.033015  0.144302  0.010879       Emission cost\n",
       "5  0.494442  0.057226  0.496941  0.042251  Carbon steel price\n",
       "6  0.027165  0.012524  0.027326  0.002674        Carbon price\n",
       "7  0.078536  0.023192  0.083598  0.007943            NG price"
      ]
     },
     "execution_count": 189,
     "metadata": {},
     "output_type": "execute_result"
    }
   ],
   "source": [
    "df_results_irr['Parameters']=['Tax_rate', 'Interest rate', 'Electricity cost','Iron ore cost',\n",
    "            'Emission cost','Carbon steel price','Carbon price',\n",
    "                          'NG price']\n",
    "df_results_irr"
   ]
  },
  {
   "cell_type": "code",
   "execution_count": 190,
   "metadata": {},
   "outputs": [
    {
     "data": {
      "image/png": "[encoded data removed]",
      "text/plain": [
       "<Figure size 1080x720 with 1 Axes>"
      ]
     },
     "metadata": {
      "needs_background": "light"
     },
     "output_type": "display_data"
    }
   ],
   "source": [
    "#df_results.plot.bar(x='Parameters',y=['S1', 'ST'],figsize=(15,15))\n",
    "fig=plt.subplots(figsize=(15,10))\n",
    "Labels=df_results_irr['Parameters']\n",
    "y_pos=np.arange(len(Labels))\n",
    "#y_pos=df_results_irr['Parameters']\n",
    "plt.bar(y_pos + 0,df_results['S1'],width=0.2,color='blue',label='NPV First order sobol indices',alpha=1)\n",
    "plt.bar(y_pos + 0.2,df_results_irr['S1'],width=0.2,color='red',label='IRR First order sobol indices',alpha=1)\n",
    "plt.bar(y_pos + 0.4,df_results['ST'],width=0.2,color='black',label='NPV Total order sobol indices',alpha=1)\n",
    "plt.bar(y_pos + 0.6,df_results_irr['ST'],width=0.2,label='IRR Total order sobol indices',alpha=1)\n",
    "plt.xticks(y_pos, Labels,rotation=15)\n",
    "plt.ylabel('Sensitivity Indices')\n",
    "#plt.xlabel('Model input parameters')\n",
    "plt.legend(loc='best')\n",
    "\n",
    "plt.savefig('Global_sensitivity_methane_pyrolysis.pdf',dpi=1200)"
   ]
  },
  {
   "cell_type": "code",
   "execution_count": 149,
   "metadata": {},
   "outputs": [
    {
     "data": {
      "text/plain": [
       "0.15015822964789272"
      ]
     },
     "execution_count": 149,
     "metadata": {},
     "output_type": "execute_result"
    }
   ],
   "source": [
    "###Local sensitivity analysis\n",
    "baseline_irr"
   ]
  },
  {
   "cell_type": "code",
   "execution_count": 105,
   "metadata": {},
   "outputs": [],
   "source": [
    "## Generation of input variables for one at a time sensitivity analysis\n",
    "variation=np.arange(-20,21,5)\n",
    "\n",
    "p=[1+(i/100) for i in variation] # P varies from -1.20 to 1.20\n",
    "change=[x*100 for x in p]\n",
    "tax_rate_n=[tax_rate*x for x in p] # 35% tax rate has been assumed\n",
    "interest_rate_n=[interest_rate*x for x in p] # Interest rate of 10%\n",
    "iron_ore_cost_n=[iron_ore_cost*x for x in p] #USD/ton\n",
    "#steel_prod_yr_n=[steel_prod_yr*p) # plant capacity of 2.5 Mt/year\n",
    "electricity_cost_n=[electricity_cost*x for x in p]#usd/MWh\n",
    "#emission_factor_n=[emission_factor*p)\n",
    "emission_cost_n=[emission_cost*x for x in p] #usd/ton\n",
    "carbon_steel_price_n=[carbon_steel_price*x for x in p] #usd/ton\n",
    "carbon_price_n=[carbon_price*x for x in p]\n",
    "#carbon_sold_n=[carbon_sold*p)\n",
    "ng_price_n=[ng_price*x for x in p]\n"
   ]
  },
  {
   "cell_type": "code",
   "execution_count": 106,
   "metadata": {},
   "outputs": [],
   "source": [
    "#Tax_rate is varied \n",
    "tax_rate_s=[pyrolysis_npv(tax_rate_n[i],interest_rate,electricity_cost,\n",
    "                 iron_ore_cost,emission_cost,carbon_steel_price,carbon_price,ng_price)[0] \n",
    "            for i in range(len(tax_rate_n))]\n",
    "#Interest rate is varied\n",
    "interest_rate_s=[(pyrolysis_npv(tax_rate,interest_rate_n[i],electricity_cost,\n",
    "                 iron_ore_cost,emission_cost,carbon_steel_price,carbon_price,ng_price))[0] \n",
    "                 for i in range(len(tax_rate_n))]\n",
    "\n",
    "iron_ore_cost_s=[(pyrolysis_npv(tax_rate,interest_rate,electricity_cost,\n",
    "                 iron_ore_cost_n[i],emission_cost,carbon_steel_price,carbon_price,ng_price))[0]\n",
    "                 for i in range(len(tax_rate_n))]\n",
    "\n",
    "\n",
    "electricity_cost_s=[(pyrolysis_npv(tax_rate,interest_rate,electricity_cost_n[i],\n",
    "                     iron_ore_cost,emission_cost,carbon_steel_price,carbon_price,ng_price))[0]\n",
    "                    for i in range(len(tax_rate_n))]               \n",
    "                 \n",
    "# Emission prices are varied              \n",
    "emission_cost_s=[(pyrolysis_npv(tax_rate,interest_rate,electricity_cost,\n",
    "                     iron_ore_cost,emission_cost_n[i],carbon_steel_price,carbon_price,ng_price))[0]\n",
    "                 for i in range(len(tax_rate_n))] #usd/ton\n",
    "\n",
    "carbon_steel_price_s=[(pyrolysis_npv(tax_rate,interest_rate,electricity_cost,\n",
    "                     iron_ore_cost,emission_cost,carbon_steel_price_n[i],carbon_price,ng_price))[0]\n",
    "                      for i in range(len(tax_rate_n))] #usd/t\n",
    "\n",
    "\n",
    "carbon_price_s=[(pyrolysis_npv(tax_rate,interest_rate,electricity_cost,\n",
    "                     iron_ore_cost,emission_cost,carbon_steel_price,carbon_price_n[i],ng_price))[0] \n",
    "                for i in range(len(tax_rate_n))] #u\n",
    "\n",
    "\n",
    "\n",
    "ng_price_s=[(pyrolysis_npv(tax_rate,interest_rate,electricity_cost,\n",
    "                     iron_ore_cost,emission_cost,carbon_steel_price,carbon_price,ng_price_n[i]))[0]\n",
    "            for i in range(len(tax_rate_n))] #u\n",
    "\n"
   ]
  },
  {
   "cell_type": "code",
   "execution_count": 150,
   "metadata": {},
   "outputs": [
    {
     "data": {
      "text/plain": [
       "\"plt.plot(change,tax_rate_s,label='Tax_rate')\\nplt.plot(change,interest_rate_s,label='Interest_rate')\\nplt.plot(change,iron_ore_cost_s,label='Iron ore price')\\n#plt.plot(change,steel_prod_yr_s,label='Steel_prod_yr')\\n#plt.plot(change,emission_factor_s,label='Grid emission_factor')\\nplt.plot(change,electricity_cost_s,label='Electricity cost')\\nplt.plot(change,emission_cost_s,label='Emission cost')\\nplt.plot(change,carbon_price_s,label='Carbon cost')\\n#plt.plot(change,carbon_sold_s,label='Carbon sold',color='b')\\n#plt.plot(change,carbon_steel_price_s,label='Carbon steel price')\\nplt.plot(change,ng_price_s,label='Natural gas price')\\nplt.xlabel('Variation from base case')\\nplt.ylabel('Net present value')\\nplt.legend(loc='best')\\n#plt.savefig('NPV sensitivity.png',dpi=1200, bbox_inches='tight')\\n#plt.savefig('NPV_sensitivity_methane_pyrolysis.pdf',dpi=1200)\""
      ]
     },
     "execution_count": 150,
     "metadata": {},
     "output_type": "execute_result"
    }
   ],
   "source": [
    "\"\"\"plt.plot(change,tax_rate_s,label='Tax_rate')\n",
    "plt.plot(change,interest_rate_s,label='Interest_rate')\n",
    "plt.plot(change,iron_ore_cost_s,label='Iron ore price')\n",
    "#plt.plot(change,steel_prod_yr_s,label='Steel_prod_yr')\n",
    "#plt.plot(change,emission_factor_s,label='Grid emission_factor')\n",
    "plt.plot(change,electricity_cost_s,label='Electricity cost')\n",
    "plt.plot(change,emission_cost_s,label='Emission cost')\n",
    "plt.plot(change,carbon_price_s,label='Carbon cost')\n",
    "#plt.plot(change,carbon_sold_s,label='Carbon sold',color='b')\n",
    "#plt.plot(change,carbon_steel_price_s,label='Carbon steel price')\n",
    "plt.plot(change,ng_price_s,label='Natural gas price')\n",
    "plt.xlabel('Variation from base case')\n",
    "plt.ylabel('Net present value')\n",
    "plt.legend(loc='best')\n",
    "#plt.savefig('NPV sensitivity.png',dpi=1200, bbox_inches='tight')\n",
    "#plt.savefig('NPV_sensitivity_methane_pyrolysis.pdf',dpi=1200)\"\"\""
   ]
  },
  {
   "cell_type": "code",
   "execution_count": 151,
   "metadata": {},
   "outputs": [],
   "source": [
    "tax_rate_npv=[-((baseline_npv-x)/(baseline_npv))*100 for x in tax_rate_s]"
   ]
  },
  {
   "cell_type": "code",
   "execution_count": 152,
   "metadata": {},
   "outputs": [],
   "source": [
    "interest_rate_npv=[-((baseline_npv-x)/(baseline_npv))*100 for x in interest_rate_s]    "
   ]
  },
  {
   "cell_type": "code",
   "execution_count": 153,
   "metadata": {},
   "outputs": [],
   "source": [
    "iron_ore_cost_npv=[-((baseline_npv-x)/(baseline_npv))*100 for x in iron_ore_cost_s]"
   ]
  },
  {
   "cell_type": "code",
   "execution_count": 154,
   "metadata": {},
   "outputs": [],
   "source": [
    "electricity_cost_npv=[-((baseline_npv-x)/(baseline_npv))*100 for x in electricity_cost_s]"
   ]
  },
  {
   "cell_type": "code",
   "execution_count": 155,
   "metadata": {},
   "outputs": [],
   "source": [
    "emission_cost_npv=[-((baseline_npv-x)/(baseline_npv))*100 for x in emission_cost_s]"
   ]
  },
  {
   "cell_type": "code",
   "execution_count": 156,
   "metadata": {},
   "outputs": [],
   "source": [
    "carbon_steel_price_npv=[-((baseline_npv-x)/(baseline_npv))*100 for x in carbon_steel_price_s]"
   ]
  },
  {
   "cell_type": "code",
   "execution_count": 157,
   "metadata": {},
   "outputs": [],
   "source": [
    "ng_price_npv=[-((baseline_npv-x)/(baseline_npv))*100 for x in ng_price_s]"
   ]
  },
  {
   "cell_type": "code",
   "execution_count": 158,
   "metadata": {},
   "outputs": [],
   "source": [
    "carbon_price_npv=[-((baseline_npv-x)/(baseline_npv))*100 for x in carbon_price_s]"
   ]
  },
  {
   "cell_type": "code",
   "execution_count": 159,
   "metadata": {},
   "outputs": [],
   "source": [
    "change_variables_per=['-20', '-15', '-10', '-5', '0', '+5', '+10', '+15', '+20']\n",
    "npv_dict={'Tax rate': tax_rate_npv,'Interest rate':interest_rate_npv,'Iron ore price':iron_ore_cost_npv,\n",
    "         'Electricity cost':electricity_cost_npv,\n",
    "         'Emission cost':emission_cost_npv,'Carbon price':carbon_price_npv,\n",
    "         'Natural gas price':ng_price_npv,'Carbon steel price':carbon_steel_price_npv,'%Change':change_variables_per}\n",
    "    \n",
    "df_npv=pd.DataFrame.from_dict(npv_dict,orient='index')"
   ]
  },
  {
   "cell_type": "code",
   "execution_count": 160,
   "metadata": {},
   "outputs": [
    {
     "data": {
      "text/html": [
       "<div>\n",
       "<style scoped>\n",
       "    .dataframe tbody tr th:only-of-type {\n",
       "        vertical-align: middle;\n",
       "    }\n",
       "\n",
       "    .dataframe tbody tr th {\n",
       "        vertical-align: top;\n",
       "    }\n",
       "\n",
       "    .dataframe thead th {\n",
       "        text-align: right;\n",
       "    }\n",
       "</style>\n",
       "<table border=\"1\" class=\"dataframe\">\n",
       "  <thead>\n",
       "    <tr style=\"text-align: right;\">\n",
       "      <th></th>\n",
       "      <th>Tax rate</th>\n",
       "      <th>Interest rate</th>\n",
       "      <th>Iron ore price</th>\n",
       "      <th>Electricity cost</th>\n",
       "      <th>Emission cost</th>\n",
       "      <th>Carbon price</th>\n",
       "      <th>Natural gas price</th>\n",
       "      <th>Carbon steel price</th>\n",
       "      <th>%Change</th>\n",
       "    </tr>\n",
       "  </thead>\n",
       "  <tbody>\n",
       "    <tr>\n",
       "      <th>0</th>\n",
       "      <td>13.0748</td>\n",
       "      <td>36.551</td>\n",
       "      <td>28.2836</td>\n",
       "      <td>15.0615</td>\n",
       "      <td>2.30495</td>\n",
       "      <td>-4.59136</td>\n",
       "      <td>17.5944</td>\n",
       "      <td>-127.585</td>\n",
       "      <td>-20</td>\n",
       "    </tr>\n",
       "    <tr>\n",
       "      <th>1</th>\n",
       "      <td>9.80608</td>\n",
       "      <td>26.7333</td>\n",
       "      <td>21.2127</td>\n",
       "      <td>11.2961</td>\n",
       "      <td>1.72871</td>\n",
       "      <td>-3.44352</td>\n",
       "      <td>13.1958</td>\n",
       "      <td>-95.6888</td>\n",
       "      <td>-15</td>\n",
       "    </tr>\n",
       "    <tr>\n",
       "      <th>2</th>\n",
       "      <td>6.53739</td>\n",
       "      <td>17.3863</td>\n",
       "      <td>14.1418</td>\n",
       "      <td>7.53073</td>\n",
       "      <td>1.15247</td>\n",
       "      <td>-2.29568</td>\n",
       "      <td>8.79722</td>\n",
       "      <td>-63.7925</td>\n",
       "      <td>-10</td>\n",
       "    </tr>\n",
       "    <tr>\n",
       "      <th>3</th>\n",
       "      <td>3.26869</td>\n",
       "      <td>8.48344</td>\n",
       "      <td>7.07091</td>\n",
       "      <td>3.76536</td>\n",
       "      <td>0.576237</td>\n",
       "      <td>-1.14784</td>\n",
       "      <td>4.39861</td>\n",
       "      <td>-31.8963</td>\n",
       "      <td>-5</td>\n",
       "    </tr>\n",
       "    <tr>\n",
       "      <th>4</th>\n",
       "      <td>-0</td>\n",
       "      <td>-0</td>\n",
       "      <td>-0</td>\n",
       "      <td>-0</td>\n",
       "      <td>-0</td>\n",
       "      <td>-0</td>\n",
       "      <td>-0</td>\n",
       "      <td>-0</td>\n",
       "      <td>0</td>\n",
       "    </tr>\n",
       "    <tr>\n",
       "      <th>5</th>\n",
       "      <td>-3.26869</td>\n",
       "      <td>-8.08729</td>\n",
       "      <td>-7.07091</td>\n",
       "      <td>-3.76536</td>\n",
       "      <td>-0.576237</td>\n",
       "      <td>1.14784</td>\n",
       "      <td>-4.39861</td>\n",
       "      <td>31.8963</td>\n",
       "      <td>+5</td>\n",
       "    </tr>\n",
       "    <tr>\n",
       "      <th>6</th>\n",
       "      <td>-6.53739</td>\n",
       "      <td>-15.8002</td>\n",
       "      <td>-14.1418</td>\n",
       "      <td>-7.53073</td>\n",
       "      <td>-1.15247</td>\n",
       "      <td>2.29568</td>\n",
       "      <td>-8.79722</td>\n",
       "      <td>63.7925</td>\n",
       "      <td>+10</td>\n",
       "    </tr>\n",
       "    <tr>\n",
       "      <th>7</th>\n",
       "      <td>-9.80608</td>\n",
       "      <td>-23.1592</td>\n",
       "      <td>-21.2127</td>\n",
       "      <td>-11.2961</td>\n",
       "      <td>-1.72871</td>\n",
       "      <td>3.44352</td>\n",
       "      <td>-13.1958</td>\n",
       "      <td>95.6888</td>\n",
       "      <td>+15</td>\n",
       "    </tr>\n",
       "    <tr>\n",
       "      <th>8</th>\n",
       "      <td>-13.0748</td>\n",
       "      <td>-30.1835</td>\n",
       "      <td>-28.2836</td>\n",
       "      <td>-15.0615</td>\n",
       "      <td>-2.30495</td>\n",
       "      <td>4.59136</td>\n",
       "      <td>-17.5944</td>\n",
       "      <td>127.585</td>\n",
       "      <td>+20</td>\n",
       "    </tr>\n",
       "  </tbody>\n",
       "</table>\n",
       "</div>"
      ],
      "text/plain": [
       "  Tax rate Interest rate Iron ore price Electricity cost Emission cost  \\\n",
       "0  13.0748        36.551        28.2836          15.0615       2.30495   \n",
       "1  9.80608       26.7333        21.2127          11.2961       1.72871   \n",
       "2  6.53739       17.3863        14.1418          7.53073       1.15247   \n",
       "3  3.26869       8.48344        7.07091          3.76536      0.576237   \n",
       "4       -0            -0             -0               -0            -0   \n",
       "5 -3.26869      -8.08729       -7.07091         -3.76536     -0.576237   \n",
       "6 -6.53739      -15.8002       -14.1418         -7.53073      -1.15247   \n",
       "7 -9.80608      -23.1592       -21.2127         -11.2961      -1.72871   \n",
       "8 -13.0748      -30.1835       -28.2836         -15.0615      -2.30495   \n",
       "\n",
       "  Carbon price Natural gas price Carbon steel price %Change  \n",
       "0     -4.59136           17.5944           -127.585     -20  \n",
       "1     -3.44352           13.1958           -95.6888     -15  \n",
       "2     -2.29568           8.79722           -63.7925     -10  \n",
       "3     -1.14784           4.39861           -31.8963      -5  \n",
       "4           -0                -0                 -0       0  \n",
       "5      1.14784          -4.39861            31.8963      +5  \n",
       "6      2.29568          -8.79722            63.7925     +10  \n",
       "7      3.44352          -13.1958            95.6888     +15  \n",
       "8      4.59136          -17.5944            127.585     +20  "
      ]
     },
     "execution_count": 160,
     "metadata": {},
     "output_type": "execute_result"
    }
   ],
   "source": [
    "df_npv=df_npv.transpose()\n",
    "df_npv"
   ]
  },
  {
   "cell_type": "code",
   "execution_count": 161,
   "metadata": {},
   "outputs": [],
   "source": [
    "change_variables_per=['-20', '-15', '-10', '-5', '0', '+5', '+10', '+15', '+20']"
   ]
  },
  {
   "cell_type": "code",
   "execution_count": 192,
   "metadata": {},
   "outputs": [
    {
     "name": "stderr",
     "output_type": "stream",
     "text": [
      "/home/abhinav/[/home/abhinav/anaconda_new]/lib/python3.7/site-packages/ipykernel_launcher.py:4: MatplotlibDeprecationWarning: Case-insensitive properties were deprecated in 3.3 and support will be removed two minor releases later\n",
      "  after removing the cwd from sys.path.\n",
      "/home/abhinav/[/home/abhinav/anaconda_new]/lib/python3.7/site-packages/ipykernel_launcher.py:5: MatplotlibDeprecationWarning: Case-insensitive properties were deprecated in 3.3 and support will be removed two minor releases later\n",
      "  \"\"\"\n"
     ]
    },
    {
     "data": {
      "image/png": "[encoded data removed]",
      "text/plain": [
       "<Figure size 1080x720 with 1 Axes>"
      ]
     },
     "metadata": {
      "needs_background": "light"
     },
     "output_type": "display_data"
    }
   ],
   "source": [
    "df_npv.plot.bar(x='%Change',y=['Tax rate', 'Interest rate', 'Iron ore price',\n",
    "                               'Electricity cost', 'Emission cost', 'Carbon price', 'Natural gas price']\n",
    "                ,stacked=False,figsize=(15,10))\n",
    "plt.xlabel('Change in value of the variables in percentage',Fontsize=15)\n",
    "plt.ylabel('Change in value of the NPV in percentage',Fontsize=15)\n",
    "plt.legend(loc='best')\n",
    "plt.savefig('NPV_percentage_change.pdf',dpi=1200, bbox_inches='tight')"
   ]
  },
  {
   "cell_type": "code",
   "execution_count": 163,
   "metadata": {},
   "outputs": [],
   "source": [
    "baseline_irr=pyrolysis_npv(*baseline)[1]\n"
   ]
  },
  {
   "cell_type": "code",
   "execution_count": 164,
   "metadata": {},
   "outputs": [],
   "source": [
    "#Tax_rate is varied \n",
    "tax_rate_t=[pyrolysis_npv(tax_rate_n[i],interest_rate,electricity_cost,\n",
    "                 iron_ore_cost,emission_cost,carbon_steel_price,carbon_price,ng_price)[1] \n",
    "            for i in range(len(tax_rate_n))]\n",
    "#Interest rate is varied\n",
    "interest_rate_t=[(pyrolysis_npv(tax_rate,interest_rate_n[i],electricity_cost,\n",
    "                 iron_ore_cost,emission_cost,carbon_steel_price,carbon_price,ng_price))[1] \n",
    "                 for i in range(len(tax_rate_n))]\n",
    "\n",
    "iron_ore_cost_t=[(pyrolysis_npv(tax_rate,interest_rate,electricity_cost,\n",
    "                 iron_ore_cost_n[i],emission_cost,carbon_steel_price,carbon_price,ng_price))[1]\n",
    "                 for i in range(len(tax_rate_n))]\n",
    "\n",
    "\n",
    "electricity_cost_t=[(pyrolysis_npv(tax_rate,interest_rate,electricity_cost_n[i],\n",
    "                     iron_ore_cost,emission_cost,carbon_steel_price,carbon_price,ng_price))[1]\n",
    "                    for i in range(len(tax_rate_n))]               \n",
    "                 \n",
    "# Emission prices are varied              \n",
    "emission_cost_t=[(pyrolysis_npv(tax_rate,interest_rate,electricity_cost,\n",
    "                     iron_ore_cost,emission_cost_n[i],carbon_steel_price,carbon_price,ng_price))[1]\n",
    "                 for i in range(len(tax_rate_n))] #usd/ton\n",
    "\n",
    "carbon_steel_price_t=[(pyrolysis_npv(tax_rate,interest_rate,electricity_cost,\n",
    "                     iron_ore_cost,emission_cost,carbon_steel_price_n[i],carbon_price,ng_price))[1]\n",
    "                      for i in range(len(tax_rate_n))] #usd/t\n",
    "\n",
    "\n",
    "carbon_price_t=[(pyrolysis_npv(tax_rate,interest_rate,electricity_cost,\n",
    "                     iron_ore_cost,emission_cost,carbon_steel_price,carbon_price_n[i],ng_price))[1] \n",
    "                for i in range(len(tax_rate_n))] #u\n",
    "\n",
    "\n",
    "\n",
    "ng_price_t=[(pyrolysis_npv(tax_rate,interest_rate,electricity_cost,\n",
    "                     iron_ore_cost,emission_cost,carbon_steel_price,carbon_price,ng_price_n[i]))[1]\n",
    "            for i in range(len(tax_rate_n))] #u\n",
    "\n"
   ]
  },
  {
   "cell_type": "code",
   "execution_count": 168,
   "metadata": {},
   "outputs": [
    {
     "data": {
      "text/plain": [
       "\"plt.plot(change,tax_rate_t,label='Tax_rate')\\nplt.plot(change,interest_rate_t,label='Interest_rate')\\nplt.plot(change,iron_ore_cost_t,label='Iron ore price')\\n#plt.plot(change,steel_prod_yr_t,label='Steel_prod_yr')\\n#plt.plot(change,emission_factor_t,label='Grid emission_factor')\\nplt.plot(change,electricity_cost_t,label='Electricity cost')\\nplt.plot(change,emission_cost_t,label='Emission cost')\\nplt.plot(change,carbon_price_t,label='Carbon cost')\\n#plt.plot(change,carbon_sold_t,label='Carbon sold')\\n#plt.plot(change,carbon_steel_price_s,label='Carbon steel price')\\nplt.plot(change,ng_price_t,label='NG_price')\\nplt.xlabel('Variation from base case')\\nplt.ylabel('Internal rate of return')\\nplt.legend()\\nplt.savefig('NPV sensitivity.png',dpi=1200, bbox_inches='tight')\\nplt.savefig('IRR_sensitivity_methane_pyrolysis.pdf',dpi=1200, bbox_inches='tight')\""
      ]
     },
     "execution_count": 168,
     "metadata": {},
     "output_type": "execute_result"
    }
   ],
   "source": [
    "\"\"\"plt.plot(change,tax_rate_t,label='Tax_rate')\n",
    "plt.plot(change,interest_rate_t,label='Interest_rate')\n",
    "plt.plot(change,iron_ore_cost_t,label='Iron ore price')\n",
    "#plt.plot(change,steel_prod_yr_t,label='Steel_prod_yr')\n",
    "#plt.plot(change,emission_factor_t,label='Grid emission_factor')\n",
    "plt.plot(change,electricity_cost_t,label='Electricity cost')\n",
    "plt.plot(change,emission_cost_t,label='Emission cost')\n",
    "plt.plot(change,carbon_price_t,label='Carbon cost')\n",
    "#plt.plot(change,carbon_sold_t,label='Carbon sold')\n",
    "#plt.plot(change,carbon_steel_price_s,label='Carbon steel price')\n",
    "plt.plot(change,ng_price_t,label='NG_price')\n",
    "plt.xlabel('Variation from base case')\n",
    "plt.ylabel('Internal rate of return')\n",
    "plt.legend()\n",
    "plt.savefig('NPV sensitivity.png',dpi=1200, bbox_inches='tight')\n",
    "plt.savefig('IRR_sensitivity_methane_pyrolysis.pdf',dpi=1200, bbox_inches='tight')\"\"\""
   ]
  },
  {
   "cell_type": "code",
   "execution_count": 169,
   "metadata": {},
   "outputs": [],
   "source": [
    "tax_rate_irr=[((x-baseline_irr)/(baseline_irr))*100 for x in tax_rate_t]\n",
    "\n",
    "interest_rate_irr=[((x-baseline_irr)/(baseline_irr))*100 for x in interest_rate_t]    \n",
    "\n",
    "iron_ore_cost_irr=[((x-baseline_irr)/(baseline_irr))*100 for x in iron_ore_cost_t]\n",
    "\n",
    "electricity_cost_irr=[((x-baseline_irr)/(baseline_irr))*100 for x in electricity_cost_t]\n",
    "\n",
    "emission_cost_irr=[((x-baseline_irr)/(baseline_irr))*100 for x in emission_cost_t]\n",
    "\n",
    "carbon_steel_price_irr=[((x-baseline_irr)/(baseline_irr))*100 for x in carbon_steel_price_t]\n",
    "\n",
    "ng_price_irr=[((x-baseline_irr)/(baseline_irr))*100 for x in ng_price_t]\n",
    "\n",
    "carbon_price_irr=[((x-baseline_irr)/(baseline_irr))*100 for x in carbon_price_t]\n",
    "\n",
    "change_variables_per=['-20', '-15', '-10', '-5', '0', '+5', '+10', '+15', '+20']\n",
    "\n"
   ]
  },
  {
   "cell_type": "code",
   "execution_count": 170,
   "metadata": {},
   "outputs": [],
   "source": [
    "irr_dict={'Tax rate': tax_rate_irr,'Interest rate':interest_rate_irr,'Iron ore price':iron_ore_cost_irr,\n",
    "         'Electricity cost':electricity_cost_irr,\n",
    "         'Emission cost':emission_cost_irr,'Carbon price':carbon_price_irr,\n",
    "         'Natural gas price':ng_price_irr,'Carbon steel price':carbon_steel_price_irr,'%Change':change_variables_per}"
   ]
  },
  {
   "cell_type": "code",
   "execution_count": 171,
   "metadata": {},
   "outputs": [
    {
     "data": {
      "text/html": [
       "<div>\n",
       "<style scoped>\n",
       "    .dataframe tbody tr th:only-of-type {\n",
       "        vertical-align: middle;\n",
       "    }\n",
       "\n",
       "    .dataframe tbody tr th {\n",
       "        vertical-align: top;\n",
       "    }\n",
       "\n",
       "    .dataframe thead th {\n",
       "        text-align: right;\n",
       "    }\n",
       "</style>\n",
       "<table border=\"1\" class=\"dataframe\">\n",
       "  <thead>\n",
       "    <tr style=\"text-align: right;\">\n",
       "      <th></th>\n",
       "      <th>Tax rate</th>\n",
       "      <th>Interest rate</th>\n",
       "      <th>Iron ore price</th>\n",
       "      <th>Electricity cost</th>\n",
       "      <th>Emission cost</th>\n",
       "      <th>Carbon price</th>\n",
       "      <th>Natural gas price</th>\n",
       "      <th>Carbon steel price</th>\n",
       "      <th>%Change</th>\n",
       "    </tr>\n",
       "  </thead>\n",
       "  <tbody>\n",
       "    <tr>\n",
       "      <th>0</th>\n",
       "      <td>5.56461</td>\n",
       "      <td>0</td>\n",
       "      <td>11.9267</td>\n",
       "      <td>6.4022</td>\n",
       "      <td>0.987779</td>\n",
       "      <td>-1.97666</td>\n",
       "      <td>7.46718</td>\n",
       "      <td>-61.6242</td>\n",
       "      <td>-20</td>\n",
       "    </tr>\n",
       "    <tr>\n",
       "      <th>1</th>\n",
       "      <td>4.18208</td>\n",
       "      <td>0</td>\n",
       "      <td>8.98293</td>\n",
       "      <td>4.81299</td>\n",
       "      <td>0.741115</td>\n",
       "      <td>-1.48135</td>\n",
       "      <td>5.61571</td>\n",
       "      <td>-44.4998</td>\n",
       "      <td>-15</td>\n",
       "    </tr>\n",
       "    <tr>\n",
       "      <th>2</th>\n",
       "      <td>2.79389</td>\n",
       "      <td>0</td>\n",
       "      <td>6.01473</td>\n",
       "      <td>3.21636</td>\n",
       "      <td>0.494264</td>\n",
       "      <td>-0.986809</td>\n",
       "      <td>3.75423</td>\n",
       "      <td>-28.7549</td>\n",
       "      <td>-10</td>\n",
       "    </tr>\n",
       "    <tr>\n",
       "      <th>3</th>\n",
       "      <td>1.39991</td>\n",
       "      <td>0</td>\n",
       "      <td>3.02086</td>\n",
       "      <td>1.6121</td>\n",
       "      <td>0.247226</td>\n",
       "      <td>-0.493027</td>\n",
       "      <td>1.88244</td>\n",
       "      <td>-14.0036</td>\n",
       "      <td>-5</td>\n",
       "    </tr>\n",
       "    <tr>\n",
       "      <th>4</th>\n",
       "      <td>0</td>\n",
       "      <td>0</td>\n",
       "      <td>0</td>\n",
       "      <td>0</td>\n",
       "      <td>0</td>\n",
       "      <td>0</td>\n",
       "      <td>0</td>\n",
       "      <td>0</td>\n",
       "      <td>0</td>\n",
       "    </tr>\n",
       "    <tr>\n",
       "      <th>5</th>\n",
       "      <td>-1.40598</td>\n",
       "      <td>0</td>\n",
       "      <td>-3.04928</td>\n",
       "      <td>-1.62015</td>\n",
       "      <td>-0.247414</td>\n",
       "      <td>0.492279</td>\n",
       "      <td>-1.89343</td>\n",
       "      <td>13.4216</td>\n",
       "      <td>+5</td>\n",
       "    </tr>\n",
       "    <tr>\n",
       "      <th>6</th>\n",
       "      <td>-2.81818</td>\n",
       "      <td>0</td>\n",
       "      <td>-6.12852</td>\n",
       "      <td>-3.24859</td>\n",
       "      <td>-0.495018</td>\n",
       "      <td>0.983815</td>\n",
       "      <td>-3.79822</td>\n",
       "      <td>26.3776</td>\n",
       "      <td>+10</td>\n",
       "    </tr>\n",
       "    <tr>\n",
       "      <th>7</th>\n",
       "      <td>-4.23675</td>\n",
       "      <td>0</td>\n",
       "      <td>-9.23937</td>\n",
       "      <td>-4.88555</td>\n",
       "      <td>-0.742813</td>\n",
       "      <td>1.47462</td>\n",
       "      <td>-5.71476</td>\n",
       "      <td>38.9524</td>\n",
       "      <td>+15</td>\n",
       "    </tr>\n",
       "    <tr>\n",
       "      <th>8</th>\n",
       "      <td>-5.66185</td>\n",
       "      <td>0</td>\n",
       "      <td>-12.3836</td>\n",
       "      <td>-6.53128</td>\n",
       "      <td>-0.990798</td>\n",
       "      <td>1.96469</td>\n",
       "      <td>-7.64343</td>\n",
       "      <td>51.2089</td>\n",
       "      <td>+20</td>\n",
       "    </tr>\n",
       "  </tbody>\n",
       "</table>\n",
       "</div>"
      ],
      "text/plain": [
       "  Tax rate Interest rate Iron ore price Electricity cost Emission cost  \\\n",
       "0  5.56461             0        11.9267           6.4022      0.987779   \n",
       "1  4.18208             0        8.98293          4.81299      0.741115   \n",
       "2  2.79389             0        6.01473          3.21636      0.494264   \n",
       "3  1.39991             0        3.02086           1.6121      0.247226   \n",
       "4        0             0              0                0             0   \n",
       "5 -1.40598             0       -3.04928         -1.62015     -0.247414   \n",
       "6 -2.81818             0       -6.12852         -3.24859     -0.495018   \n",
       "7 -4.23675             0       -9.23937         -4.88555     -0.742813   \n",
       "8 -5.66185             0       -12.3836         -6.53128     -0.990798   \n",
       "\n",
       "  Carbon price Natural gas price Carbon steel price %Change  \n",
       "0     -1.97666           7.46718           -61.6242     -20  \n",
       "1     -1.48135           5.61571           -44.4998     -15  \n",
       "2    -0.986809           3.75423           -28.7549     -10  \n",
       "3    -0.493027           1.88244           -14.0036      -5  \n",
       "4            0                 0                  0       0  \n",
       "5     0.492279          -1.89343            13.4216      +5  \n",
       "6     0.983815          -3.79822            26.3776     +10  \n",
       "7      1.47462          -5.71476            38.9524     +15  \n",
       "8      1.96469          -7.64343            51.2089     +20  "
      ]
     },
     "execution_count": 171,
     "metadata": {},
     "output_type": "execute_result"
    }
   ],
   "source": [
    "    \n",
    "df_irr=pd.DataFrame.from_dict(irr_dict,orient='index')\n",
    "df_irr=df_irr.transpose()\n",
    "df_irr"
   ]
  },
  {
   "cell_type": "code",
   "execution_count": 191,
   "metadata": {},
   "outputs": [
    {
     "name": "stderr",
     "output_type": "stream",
     "text": [
      "/home/abhinav/[/home/abhinav/anaconda_new]/lib/python3.7/site-packages/ipykernel_launcher.py:3: MatplotlibDeprecationWarning: Case-insensitive properties were deprecated in 3.3 and support will be removed two minor releases later\n",
      "  This is separate from the ipykernel package so we can avoid doing imports until\n",
      "/home/abhinav/[/home/abhinav/anaconda_new]/lib/python3.7/site-packages/ipykernel_launcher.py:4: MatplotlibDeprecationWarning: Case-insensitive properties were deprecated in 3.3 and support will be removed two minor releases later\n",
      "  after removing the cwd from sys.path.\n"
     ]
    },
    {
     "data": {
      "image/png": "[encoded data removed]",
      "text/plain": [
       "<Figure size 1080x1080 with 1 Axes>"
      ]
     },
     "metadata": {
      "needs_background": "light"
     },
     "output_type": "display_data"
    }
   ],
   "source": [
    "df_irr.plot.bar(x='%Change',y=['Tax rate', 'Iron ore price','Electricity cost', 'Emission cost', 'Carbon price',\n",
    "       'Natural gas price'],stacked=False)\n",
    "plt.xlabel('Change in value of the variables in percentage',Fontsize=15)\n",
    "plt.ylabel('Change in value of the IRR in percentage',Fontsize=15)\n",
    "plt.legend(loc='best')\n",
    "plt.savefig('IRR_percentage_change.pdf',dpi=1200, bbox_inches='tight')"
   ]
  },
  {
   "cell_type": "code",
   "execution_count": 173,
   "metadata": {},
   "outputs": [],
   "source": [
    "def energiron(tax_rate,interest_rate,steel_prod_yr,emission_factor,electricity_cost,\n",
    "                 iron_ore_cost,emission_cost,carbon_steel_price,ng_price):\n",
    "    plant_life=20\n",
    "    \n",
    "    \n",
    "    iron_ore_dri=1.4 #t/t dri\n",
    "    metallization=0.94\n",
    "    oxygen_dri=55 #NM3/tls\n",
    "    iron_ore_tls=iron_ore_dri/metallization\n",
    "    natural_gas=2.22 # gcal/tls\n",
    "    ng_cal=48000 #kj/kg\n",
    "    natural_gas_kg=(2.22*10**6*4.184)/ng_cal #conver gcal to Kj \n",
    "    \n",
    "    \n",
    "    \n",
    "    \n",
    "    \n",
    "    #emission_factor=0.5 #kgCO2/KWh\n",
    "    ng_upstream_emission=17.2 #gCo2/MJ\n",
    "    ng_emission_tls=(natural_gas_kg*ng_cal*ng_upstream_emission)/10**6 #convert KJ to MJ #kgco2/tls\n",
    "    co2_selective_dri=235 #kg/tls\n",
    "    co2_non_selective=306 #kg/tls\n",
    "    el_dri=79 # KWh/tls\n",
    "    total_el=(el_dri+el_eaf)/1000 # MWh/tls\n",
    "    indirect_ems_energiron=total_el*emission_factor\n",
    "    direct_ems_energiron=(co2_non_selective+co2_selective_dri)/1000+ng_emission_tls/1000\n",
    "    total_emission= direct_ems_energiron+indirect_ems_energiron\n",
    "    #### Economic parameters that could be included in the article\n",
    "    EAF_cost_per_ton_yr=140\n",
    "    # The value includes installation costs \n",
    "    #https://iea-etsap.org/E-TechDS/PDF/I02-Iron&Steel-GS-AD-gct.pdf\n",
    "    EAF_total_cost=(EAF_cost_per_ton_yr*steel_prod_yr)/10**6\n",
    "    #### DRI Cost \n",
    "    #Link : https://www2.deloitte.com/content/dam/Deloitte/global/Documents/Manufacturing/gx_remaking%20the%20global%20steel%20industry_06_13.pdf\n",
    "\n",
    "    DRI_cost_per_ton_yr=240 #USD/ton/per year\n",
    "    # Cost of new DRI plant with 2 MT/annum =5.5 million euros or 6 million USD\n",
    "     # A reduction in cost is considered as larger plants have smaller costs. (0.6)\n",
    "    # The plant costs include all the costs including ISBL, OSBL, area development etc \n",
    "    # no Lang factor multiplication is required for such a plant\n",
    "    #https://www.voestalpine.com/group/en/media/press-releases/2013-07-04-\n",
    "     #voestalpine-entrusts-construction-of-the-direct-reduction-plant-in-texas-to-siemens-and-midrex/\n",
    "    DRI_total_cost=(DRI_cost_per_ton_yr*steel_prod_yr)/10**6\n",
    "    #### Pressure swing adsorber \n",
    "\n",
    "    \n",
    "    \n",
    "    total_capital_cost=((EAF_total_cost+DRI_total_cost))*2\n",
    "     ##Operational cost\n",
    "    eaf_op_cost_tls=32 #t/yr of dri\n",
    "    dri_op_cost_tls=13 #t/yr of dri\n",
    "    ng_cost=((ng_price/21)*natural_gas_kg)# converting price/MMBTU to price/kg\n",
    "    iron_ore_cost_tls=iron_ore_tls*iron_ore_cost\n",
    "    electricity_cost_tls=total_el*electricity_cost\n",
    "    operational_cost_annual=((ng_cost+iron_ore_cost_tls+electricity_cost_tls+\n",
    "                              eaf_op_cost_tls+dri_op_cost_tls)*steel_prod_yr)/10**6\n",
    "    #Maintenance cost\n",
    "    maintenance_cost_percentage=0.10 \n",
    "    labour_cost_tls=40 #USD/tls\n",
    "    # 10% of the capital cost\n",
    "    \n",
    "    maintenance_cost_yr=((maintenance_cost_percentage*total_capital_cost))\n",
    "    labour_cost_yr=((labour_cost_tls*steel_prod_yr)/10**6)\n",
    "     #Emission cost\n",
    "    total_emission_cost=((direct_ems_energiron*emission_cost*steel_prod_yr)/10**6) # in Million USD\n",
    "    depreciation_yr=total_capital_cost/plant_life\n",
    "     # Revenue\n",
    "    # USD/ton\n",
    "    total_revenue=(carbon_steel_price*steel_prod_yr)/10**6\n",
    "     \n",
    "    ## NPV and IRR calculations \n",
    "    years=np.arange(0,plant_life,1)\n",
    "    Years=np.round(years,0)\n",
    "    production_steel=np.repeat(steel_prod_yr/10**6,plant_life).tolist()\n",
    "    #production_hydrogen=np.repeat(h2_prod_yr/1000000,plant_life).tolist()  \n",
    "      \n",
    "    capital_cost_yr=np.repeat(0,plant_life).tolist()\n",
    "    capital_cost_yr[0]=(total_capital_cost/3)\n",
    "    capital_cost_yr[1]=(total_capital_cost)*(2/3)\n",
    "    operational_cost=np.repeat(operational_cost_annual,plant_life).tolist()\n",
    "    maintenance_cost=np.repeat(maintenance_cost_yr,plant_life).tolist()\n",
    "    labour_cost=np.repeat(labour_cost_yr,plant_life).tolist()\n",
    "    emission_cost=np.repeat(total_emission_cost,plant_life).tolist()\n",
    "    depreciation_cost=np.repeat(depreciation_yr,plant_life).tolist()\n",
    "    total_revenue=np.repeat(total_revenue,plant_life).tolist()\n",
    "\n",
    "    for i in range(2):\n",
    "        production_steel[i]=0\n",
    "        operational_cost[i]=0\n",
    "        labour_cost[i]=0\n",
    "        maintenance_cost[i]=0\n",
    "        emission_cost[i]=0 \n",
    "        depreciation_cost[i]=0\n",
    "        total_revenue[i]=0\n",
    "    # tax calculation\n",
    "    \n",
    "    \n",
    "    tax_cost=[]\n",
    "    for i in range(plant_life):\n",
    "        tax_cost.append((total_revenue[i]-(capital_cost_yr[i]+operational_cost[i]+\n",
    "                                           labour_cost[i]+maintenance_cost[i]\n",
    "                                           +emission_cost[i]+depreciation_cost[i]))*tax_rate)\n",
    "    for i in range(2):\n",
    "        tax_cost[i]=0\n",
    "    cash_flow=[]\n",
    "    for i in range(plant_life):\n",
    "        cash_flow.append(total_revenue[i]-(capital_cost_yr[i]+\n",
    "                                           operational_cost[i]+labour_cost[i]\n",
    "                                           +maintenance_cost[i]+emission_cost[i]+tax_cost[i]))\n",
    "    npv=npf.npv(interest_rate,cash_flow)\n",
    "    irr=npf.irr(cash_flow)\n",
    "    #return(NPV_methane_pyrolysis,IRR_system)\n",
    "    p=[npv,irr]\n",
    "    q=cash_flow\n",
    "    return p\n",
    "  \n"
   ]
  },
  {
   "cell_type": "code",
   "execution_count": 174,
   "metadata": {},
   "outputs": [],
   "source": [
    "plant_life=20\n",
    "\n",
    "ng_price=6.58 #USD/MMBTU\n",
    "iron_ore_cost=90 #usd/ton\n",
    "electricity_cost=56.12 #USD/MWh # Germany\n",
    "emission_cost=35 #USD/ton# USD 30 per ton \n",
    "carbon_steel_price=700 #USD/ton\n",
    "tax_rate=0.35\n",
    "interest_rate=0.20\n",
    "emission_factor=0.412 # corresponsding to german emission factor\n",
    "\n",
    "baseline_energiron=[tax_rate,interest_rate,steel_prod_yr,emission_factor,electricity_cost,\n",
    "                 iron_ore_cost,emission_cost,carbon_steel_price,ng_price]\n",
    "baseline_energiron_npv=energiron(*baseline_energiron)[0]"
   ]
  },
  {
   "cell_type": "code",
   "execution_count": null,
   "metadata": {},
   "outputs": [],
   "source": [
    "baseline_energiron_npv"
   ]
  },
  {
   "cell_type": "code",
   "execution_count": null,
   "metadata": {},
   "outputs": [],
   "source": [
    "npv_energiron=energiron(*baseline_energiron)"
   ]
  },
  {
   "cell_type": "code",
   "execution_count": null,
   "metadata": {},
   "outputs": [],
   "source": [
    "npv_energiron"
   ]
  },
  {
   "cell_type": "code",
   "execution_count": 114,
   "metadata": {},
   "outputs": [],
   "source": [
    "def lcop_energiron(interest_rate):\n",
    "    \n",
    "    plant_life=20\n",
    "    iron_ore_cost=90\n",
    "    electricity_cost=56.12\n",
    "    emission_cost=35 #USD/ton\n",
    "    iron_ore_dri=1.4 #t/t dri\n",
    "    metallization=0.94\n",
    "    oxygen_dri=55 #NM3/tls\n",
    "    iron_ore_tls=iron_ore_dri/metallization\n",
    "    natural_gas=2.22 # gcal/tls\n",
    "    ng_cal=48000 #kj/kg\n",
    "    natural_gas_kg=(2.22*10**6*4.184)/ng_cal #conver gcal to Kj \n",
    "    \n",
    "    \n",
    "    \n",
    "    \n",
    "    \n",
    "    #emission_factor=0.5 #kgCO2/KWh\n",
    "    ng_upstream_emission=17.2 #gCo2/MJ\n",
    "    ng_emission_tls=(natural_gas_kg*ng_cal*ng_upstream_emission)/10**6 #convert KJ to MJ #kgco2/tls\n",
    "    co2_selective_dri=235 #kg/tls\n",
    "    co2_non_selective=306 #kg/tls\n",
    "    el_dri=79 # KWh/tls\n",
    "    total_el=(el_dri+el_eaf)/1000 # MWh/tls\n",
    "    indirect_ems_energiron=total_el*emission_factor\n",
    "    direct_ems_energiron=(co2_non_selective+co2_selective_dri)/1000+ng_emission_tls/1000\n",
    "    total_emission= direct_ems_energiron+indirect_ems_energiron\n",
    "    #### Economic parameters that could be included in the article\n",
    "    EAF_cost_per_ton_yr=140\n",
    "    # The value includes installation costs \n",
    "    #https://iea-etsap.org/E-TechDS/PDF/I02-Iron&Steel-GS-AD-gct.pdf\n",
    "    EAF_total_cost=(EAF_cost_per_ton_yr*steel_prod_yr)/10**6\n",
    "    #### DRI Cost \n",
    "    #Link : https://www2.deloitte.com/content/dam/Deloitte/global/Documents/Manufacturing/gx_remaking%20the%20global%20steel%20industry_06_13.pdf\n",
    "\n",
    "    DRI_cost_per_ton_yr=240 #USD/ton/per year\n",
    "    # Cost of new DRI plant with 2 MT/annum =5.5 million euros or 6 million USD\n",
    "     # A reduction in cost is considered as larger plants have smaller costs. (0.6)\n",
    "    # The plant costs include all the costs including ISBL, OSBL, area development etc \n",
    "    # no Lang factor multiplication is required for such a plant\n",
    "    #https://www.voestalpine.com/group/en/media/press-releases/2013-07-04-\n",
    "     #voestalpine-entrusts-construction-of-the-direct-reduction-plant-in-texas-to-siemens-and-midrex/\n",
    "    DRI_total_cost=(DRI_cost_per_ton_yr*steel_prod_yr)/10**6\n",
    "    #### Pressure swing adsorber \n",
    "\n",
    "    \n",
    "    \n",
    "    total_capital_cost=((EAF_total_cost+DRI_total_cost))*2\n",
    "     ##Operational cost\n",
    "    eaf_op_cost_tls=32 #t/yr of dri\n",
    "    dri_op_cost_tls=13 #t/yr of dri\n",
    "    ng_cost=((ng_price/21)*natural_gas_kg)# converting price/MMBTU to price/kg\n",
    "    iron_ore_cost_tls=iron_ore_tls*iron_ore_cost\n",
    "    electricity_cost_tls=total_el*electricity_cost\n",
    "    operational_cost_annual=((ng_cost+iron_ore_cost_tls+electricity_cost_tls+\n",
    "                              eaf_op_cost_tls+dri_op_cost_tls)*steel_prod_yr)/10**6\n",
    "    #Maintenance cost\n",
    "    maintenance_cost_percentage=0.02\n",
    "    labour_cost_tls=40 #USD/tls\n",
    "    # 10% of the capital cost\n",
    "    \n",
    "    maintenance_cost_yr=((maintenance_cost_percentage*total_capital_cost))\n",
    "    labour_cost_yr=((labour_cost_tls*steel_prod_yr)/10**6)\n",
    "     #Emission cost\n",
    "    total_emission_cost=((direct_ems_energiron*emission_cost*steel_prod_yr)/10**6) # in Million USD\n",
    "    depreciation_yr=total_capital_cost/plant_life\n",
    "     # Revenue\n",
    "    # USD/ton\n",
    "    i=interest_rate\n",
    "    f_an=(i*((1+i)**plant_life)/((1+i)**plant_life-1))\n",
    "   \n",
    "    lang_factor=1.5\n",
    "    iron_ore_cost=90\n",
    "    electricity_cost=56.12 \n",
    "    emission_cost=30\n",
    "    eac=[total_capital_cost*f_an*lang_factor\n",
    "         +operational_cost_annual\n",
    "         +maintenance_cost_yr\n",
    "         +labour_cost_yr\n",
    "         +total_emission_cost]\n",
    "    lcop=eac[0]/(steel_prod_yr/10**6)\n",
    "    return lcop,[total_capital_cost*f_an*lang_factor\n",
    "         ,operational_cost_annual\n",
    "         ,maintenance_cost_yr\n",
    "         ,labour_cost_yr\n",
    "         ,total_emission_cost]"
   ]
  },
  {
   "cell_type": "code",
   "execution_count": 115,
   "metadata": {},
   "outputs": [],
   "source": [
    "## https://www.nrel.gov/docs/legosti/old/5173.pdf"
   ]
  },
  {
   "cell_type": "code",
   "execution_count": 116,
   "metadata": {},
   "outputs": [
    {
     "data": {
      "text/plain": [
       "(469.58453725809926,\n",
       " [357.39824272889274,\n",
       "  842.6077584267838,\n",
       "  46.78651507034149,\n",
       "  123.12240807984602,\n",
       "  75.4945513010695])"
      ]
     },
     "execution_count": 116,
     "metadata": {},
     "output_type": "execute_result"
    }
   ],
   "source": [
    "lcop_energiron(0.08)"
   ]
  },
  {
   "cell_type": "code",
   "execution_count": 136,
   "metadata": {},
   "outputs": [],
   "source": [
    "energiron=[357.39824272889274,\n",
    "  842.6077584267838,\n",
    "  46.78651507034149,\n",
    "  123.12240807984602,\n",
    "  75.4945513010695]\n",
    "energiron_plt=[x/3.07 for x in energiron]\n",
    "\n",
    "mp=[505.8644765979323,\n",
    " 1094.142816501826,\n",
    " 99.33303998861366,\n",
    " 61.56120403992301,\n",
    " 36.1452810608786]\n",
    "mp_plt=[x/3.07 for x in mp]\n",
    "el=[530.8456271316716,\n",
    "  1282.5535567253098,\n",
    "  104.23841235557231,\n",
    "  61.56120403992301,\n",
    "  25.101580947278613]\n",
    "el_plt=[x/3.07 for x in el]\n",
    "costs=['Annualized capital cost','Operational cost','Maintenance cost','Labour cost','Emission cost']\n",
    "\n"
   ]
  },
  {
   "cell_type": "code",
   "execution_count": 147,
   "metadata": {},
   "outputs": [
    {
     "data": {
      "image/png": "[encoded data removed]",
      "text/plain": [
       "<Figure size 1080x720 with 1 Axes>"
      ]
     },
     "metadata": {
      "needs_background": "light"
     },
     "output_type": "display_data"
    }
   ],
   "source": [
    "plt.subplots(figsize=(15,10))\n",
    "Labels=costs\n",
    "y_pos=np.arange(len(Labels))\n",
    "\n",
    "plt.bar(y_pos+0,mp_plt,width=0.2,label='Methane pyrolysis',alpha=1)\n",
    "plt.bar(y_pos+0.2,el_plt,width=0.2,label='Electrolyser',alpha=1)\n",
    "plt.bar(y_pos+0.4,energiron_plt,width=0.2,label='NG-DRI-EAF',alpha=1)\n",
    "plt.xticks(y_pos, Labels,rotation=10,fontsize=12)\n",
    "plt.ylabel('Contribution to the levellized cost',fontsize=15)\n",
    "\n",
    "plt.legend(loc='best')\n",
    "plt.savefig('LCOP_contributions.pdf',dpi=1200)"
   ]
  },
  {
   "cell_type": "code",
   "execution_count": null,
   "metadata": {},
   "outputs": [],
   "source": []
  },
  {
   "cell_type": "code",
   "execution_count": null,
   "metadata": {},
   "outputs": [],
   "source": []
  },
  {
   "cell_type": "code",
   "execution_count": null,
   "metadata": {},
   "outputs": [],
   "source": [
    "plant_life=20\n",
    "iron_ore_cost=90\n",
    "electricity_cost=56.12\n",
    "emission_cost=35 #USD/ton\n",
    "iron_ore_dri=1.4 #t/t dri\n",
    "metallization=0.94\n",
    "oxygen_dri=55 #NM3/tls\n",
    "iron_ore_tls=iron_ore_dri/metallization\n",
    "natural_gas=2.22 # gcal/tls\n",
    "ng_cal=48000 #kj/kg\n",
    "natural_gas_kg=(2.22*10**6*4.184)/ng_cal #conver gcal to Kj \n",
    "\n",
    "\n",
    "\n",
    "\n",
    "\n",
    "#emission_factor=0.5 #kgCO2/KWh\n",
    "ng_upstream_emission=17.2 #gCo2/MJ\n",
    "ng_emission_tls=(natural_gas_kg*ng_cal*ng_upstream_emission)/10**6 #convert KJ to MJ #kgco2/tls\n",
    "co2_selective_dri=235 #kg/tls\n",
    "co2_non_selective=306 #kg/tls\n",
    "el_dri=79 # KWh/tls\n",
    "total_el=(el_dri+el_eaf)/1000 # MWh/tls\n",
    "indirect_ems_energiron=total_el*emission_factor\n",
    "direct_ems_energiron=(co2_non_selective+co2_selective_dri)/1000+ng_emission_tls/1000\n",
    "total_emission= direct_ems_energiron+indirect_ems_energiron"
   ]
  },
  {
   "cell_type": "code",
   "execution_count": null,
   "metadata": {},
   "outputs": [],
   "source": [
    "total_emission\n"
   ]
  },
  {
   "cell_type": "code",
   "execution_count": null,
   "metadata": {},
   "outputs": [],
   "source": []
  },
  {
   "cell_type": "code",
   "execution_count": null,
   "metadata": {},
   "outputs": [],
   "source": []
  },
  {
   "cell_type": "code",
   "execution_count": null,
   "metadata": {},
   "outputs": [],
   "source": []
  },
  {
   "cell_type": "code",
   "execution_count": null,
   "metadata": {},
   "outputs": [],
   "source": []
  }
 ],
 "metadata": {
  "kernelspec": {
   "display_name": "Python 3",
   "language": "python",
   "name": "python3"
  },
  "language_info": {
   "codemirror_mode": {
    "name": "ipython",
    "version": 3
   },
   "file_extension": ".py",
   "mimetype": "text/x-python",
   "name": "python",
   "nbconvert_exporter": "python",
   "pygments_lexer": "ipython3",
   "version": "3.7.7"
  }
 },
 "nbformat": 4,
 "nbformat_minor": 2
}
